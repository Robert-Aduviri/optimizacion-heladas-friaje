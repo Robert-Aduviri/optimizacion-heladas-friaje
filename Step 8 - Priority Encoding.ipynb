{
 "cells": [
  {
   "cell_type": "code",
   "execution_count": 34,
   "metadata": {},
   "outputs": [],
   "source": [
    "import numpy as np"
   ]
  },
  {
   "cell_type": "code",
   "execution_count": 35,
   "metadata": {},
   "outputs": [],
   "source": [
    "E = [400, 600, 500] # suppliers capacity\n",
    "D = [300, 400, 500, 350] # plants capacity\n",
    "W = [150, 150, 350, 500] # DCs capacity\n",
    "d = [200, 150, 200, 250, 100] # customers demand"
   ]
  },
  {
   "cell_type": "code",
   "execution_count": 36,
   "metadata": {},
   "outputs": [],
   "source": [
    "g = [1150, 1200, 900, 1250] # plants operation $\n",
    "v = [900, 1050, 1300, 1100] # DCs operation $"
   ]
  },
  {
   "cell_type": "code",
   "execution_count": 37,
   "metadata": {},
   "outputs": [],
   "source": [
    "# suppliers-plants transportation + purchasing $\n",
    "t = np.array([\n",
    "    [6, 5, 6, 7],\n",
    "    [4, 2, 7, 6],\n",
    "    [4, 3, 7, 4]\n",
    "])"
   ]
  },
  {
   "cell_type": "code",
   "execution_count": 38,
   "metadata": {},
   "outputs": [],
   "source": [
    "# plants-DCs transportation $\n",
    "a = np.array([\n",
    "    [4, 4, 2, 1],\n",
    "    [3, 2, 2, 4],\n",
    "    [4, 6, 5, 3],\n",
    "    [8, 3, 7, 2]\n",
    "])"
   ]
  },
  {
   "cell_type": "code",
   "execution_count": 39,
   "metadata": {},
   "outputs": [],
   "source": [
    "# DCs-customers transportation $\n",
    "c = np.array([\n",
    "    [7, 4, 7, 7, 6],\n",
    "    [9, 2, 3, 8, 9],\n",
    "    [6, 7, 3, 8, 3],\n",
    "    [3, 7, 9, 4, 9]\n",
    "])"
   ]
  },
  {
   "cell_type": "code",
   "execution_count": 40,
   "metadata": {},
   "outputs": [],
   "source": [
    "v = [3, 8, 5, 2, 1, 7, 4, 6] # chromosome"
   ]
  },
  {
   "cell_type": "code",
   "execution_count": 83,
   "metadata": {},
   "outputs": [],
   "source": [
    "def DCs_customers_transportation_tree(d, W, c, v2):\n",
    "    '''\n",
    "    d: customers demand [i]\n",
    "    W: DCs capacity [j]\n",
    "    c: DCs-customers transportation $ [j,i]\n",
    "    v2: second substring of the chromosome [j]\n",
    "    '''\n",
    "    J = len(W) # num DCs\n",
    "    I = len(d) # num customers\n",
    "    \n",
    "    q = np.zeros((J,I)) # DC to customer transportation units\n",
    "    z = np.zeros(J) # used DCs flag\n",
    "    for j in sorted(range(J), key=lambda x: v2[x], reverse=True):\n",
    "        for i in sorted(range(I), key=lambda x: c[j,x]):\n",
    "            if d[i] > 0 and d[i] <= W[j]:\n",
    "                print(f'Assign {d[i]} from Plant {j+1} to Customer {i+1}')\n",
    "                W[j] -= d[i]\n",
    "                q[j,i] += d[i]\n",
    "                d[i] = 0\n",
    "    z = np.array(q.sum(1) > 0, dtype='int')\n",
    "    return q, z"
   ]
  },
  {
   "cell_type": "code",
   "execution_count": 84,
   "metadata": {},
   "outputs": [
    {
     "name": "stdout",
     "output_type": "stream",
     "text": [
      "Assign 150 from Plant 2 to Customer 2\n",
      "Assign 200 from Plant 4 to Customer 1\n",
      "Assign 250 from Plant 4 to Customer 4\n",
      "Assign 200 from Plant 3 to Customer 3\n",
      "Assign 100 from Plant 3 to Customer 5\n"
     ]
    }
   ],
   "source": [
    "q, z = DCs_customers_transportation_tree(d[:], W[:], c[:], v[4:])"
   ]
  },
  {
   "cell_type": "code",
   "execution_count": 85,
   "metadata": {},
   "outputs": [
    {
     "data": {
      "text/plain": [
       "array([[  0.,   0.,   0.,   0.,   0.],\n",
       "       [  0., 150.,   0.,   0.,   0.],\n",
       "       [  0.,   0., 200.,   0., 100.],\n",
       "       [200.,   0.,   0., 250.,   0.]])"
      ]
     },
     "execution_count": 85,
     "metadata": {},
     "output_type": "execute_result"
    }
   ],
   "source": [
    "q"
   ]
  },
  {
   "cell_type": "code",
   "execution_count": 86,
   "metadata": {},
   "outputs": [
    {
     "data": {
      "text/plain": [
       "array([0, 1, 1, 1])"
      ]
     },
     "execution_count": 86,
     "metadata": {},
     "output_type": "execute_result"
    }
   ],
   "source": [
    "z"
   ]
  },
  {
   "cell_type": "code",
   "execution_count": null,
   "metadata": {},
   "outputs": [],
   "source": []
  }
 ],
 "metadata": {
  "kernelspec": {
   "display_name": "Python 3",
   "language": "python",
   "name": "python3"
  },
  "language_info": {
   "codemirror_mode": {
    "name": "ipython",
    "version": 3
   },
   "file_extension": ".py",
   "mimetype": "text/x-python",
   "name": "python",
   "nbconvert_exporter": "python",
   "pygments_lexer": "ipython3",
   "version": "3.6.3"
  }
 },
 "nbformat": 4,
 "nbformat_minor": 2
}
