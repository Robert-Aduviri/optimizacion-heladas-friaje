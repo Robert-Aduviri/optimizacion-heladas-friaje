{
 "cells": [
  {
   "cell_type": "code",
   "execution_count": 69,
   "metadata": {},
   "outputs": [],
   "source": [
    "from collections import defaultdict\n",
    "\n",
    "class Graph:\n",
    "    def __init__(self, filename):\n",
    "        self.graph = defaultdict(dict)\n",
    "        self.nodes = {}\n",
    "        with open(filename, 'r') as f:\n",
    "            for line in f.readlines():\n",
    "                tokens = line.split()\n",
    "                if len(tokens) == 2:\n",
    "                    v, demand = tokens\n",
    "                    self.nodes[v] = int(demand)\n",
    "                elif len(tokens) == 3:\n",
    "                    v, w, cost = tokens\n",
    "                    self.graph[v][w] = int(cost)\n",
    "                    self.graph[w][v] = int(cost)"
   ]
  },
  {
   "cell_type": "code",
   "execution_count": 70,
   "metadata": {},
   "outputs": [],
   "source": [
    "graph = Graph('data/input.txt')    "
   ]
  },
  {
   "cell_type": "code",
   "execution_count": 71,
   "metadata": {},
   "outputs": [
    {
     "data": {
      "text/plain": [
       "defaultdict(dict,\n",
       "            {'A': {'D': 11, 'E': 19, 'F': 17, 'G': 18},\n",
       "             'D': {'A': 11, 'B': 16, 'C': 15},\n",
       "             'E': {'A': 19, 'B': 14, 'C': 16},\n",
       "             'F': {'A': 17, 'B': 18, 'C': 19},\n",
       "             'G': {'A': 18, 'B': 15, 'C': 13},\n",
       "             'B': {'D': 16, 'E': 14, 'F': 18, 'G': 15},\n",
       "             'C': {'D': 15, 'E': 16, 'F': 19, 'G': 13}})"
      ]
     },
     "execution_count": 71,
     "metadata": {},
     "output_type": "execute_result"
    }
   ],
   "source": [
    "graph.graph"
   ]
  },
  {
   "cell_type": "code",
   "execution_count": 72,
   "metadata": {},
   "outputs": [
    {
     "data": {
      "text/plain": [
       "{'A': 550, 'B': 300, 'C': 450, 'D': 300, 'E': 350, 'F': 300, 'G': 350}"
      ]
     },
     "execution_count": 72,
     "metadata": {},
     "output_type": "execute_result"
    }
   ],
   "source": [
    "graph.nodes"
   ]
  },
  {
   "cell_type": "code",
   "execution_count": 102,
   "metadata": {},
   "outputs": [],
   "source": [
    "import random\n",
    "import numpy as np"
   ]
  },
  {
   "cell_type": "code",
   "execution_count": 115,
   "metadata": {},
   "outputs": [],
   "source": [
    "chromosome = {\n",
    "    'A': 2,\n",
    "    'B': 5,\n",
    "    'C': 3,\n",
    "    'D': 7,\n",
    "    'E': 4,\n",
    "    'F': 1,\n",
    "    'G': 6\n",
    "}"
   ]
  },
  {
   "cell_type": "code",
   "execution_count": 116,
   "metadata": {},
   "outputs": [],
   "source": [
    "keys   = np.random.permutation(list(chromosome.keys()))\n",
    "values = np.random.permutation(list(chromosome.values()))\n",
    "chromosome = {k: v for k, v in zip(keys, values)}"
   ]
  },
  {
   "cell_type": "code",
   "execution_count": 117,
   "metadata": {},
   "outputs": [
    {
     "data": {
      "text/plain": [
       "{'C': 3, 'B': 5, 'G': 1, 'A': 7, 'E': 4, 'D': 2, 'F': 6}"
      ]
     },
     "execution_count": 117,
     "metadata": {},
     "output_type": "execute_result"
    }
   ],
   "source": [
    "chromosome"
   ]
  },
  {
   "cell_type": "markdown",
   "metadata": {},
   "source": [
    "## Chromosome decoding"
   ]
  },
  {
   "cell_type": "code",
   "execution_count": 74,
   "metadata": {},
   "outputs": [],
   "source": [
    "import copy"
   ]
  },
  {
   "cell_type": "code",
   "execution_count": 118,
   "metadata": {},
   "outputs": [],
   "source": [
    "transp = copy.deepcopy(graph.graph)\n",
    "for v in transp:\n",
    "    for w in transp[v]:\n",
    "        transp[v][w] = 0"
   ]
  },
  {
   "cell_type": "code",
   "execution_count": 119,
   "metadata": {},
   "outputs": [
    {
     "data": {
      "text/plain": [
       "defaultdict(dict,\n",
       "            {'A': {'D': 0, 'E': 0, 'F': 0, 'G': 0},\n",
       "             'D': {'A': 0, 'B': 0, 'C': 0},\n",
       "             'E': {'A': 0, 'B': 0, 'C': 0},\n",
       "             'F': {'A': 0, 'B': 0, 'C': 0},\n",
       "             'G': {'A': 0, 'B': 0, 'C': 0},\n",
       "             'B': {'D': 0, 'E': 0, 'F': 0, 'G': 0},\n",
       "             'C': {'D': 0, 'E': 0, 'F': 0, 'G': 0}})"
      ]
     },
     "execution_count": 119,
     "metadata": {},
     "output_type": "execute_result"
    }
   ],
   "source": [
    "transp"
   ]
  },
  {
   "cell_type": "code",
   "execution_count": 120,
   "metadata": {},
   "outputs": [],
   "source": [
    "cap = copy.deepcopy(graph.nodes)"
   ]
  },
  {
   "cell_type": "code",
   "execution_count": 121,
   "metadata": {},
   "outputs": [
    {
     "data": {
      "text/plain": [
       "{'A': 550, 'B': 300, 'C': 450, 'D': 300, 'E': 350, 'F': 300, 'G': 350}"
      ]
     },
     "execution_count": 121,
     "metadata": {},
     "output_type": "execute_result"
    }
   ],
   "source": [
    "cap"
   ]
  },
  {
   "cell_type": "code",
   "execution_count": 122,
   "metadata": {},
   "outputs": [],
   "source": [
    "for v in sorted(chromosome, key=chromosome.get, reverse=True):\n",
    "    for w in sorted(graph.graph[v], key=graph.graph[v].get):\n",
    "        consumption = min(cap[v], cap[w])\n",
    "        transp[v][w] += consumption\n",
    "        transp[w][v] += consumption\n",
    "        cap[v] -= consumption\n",
    "        cap[w] -= consumption"
   ]
  },
  {
   "cell_type": "code",
   "execution_count": 123,
   "metadata": {},
   "outputs": [
    {
     "data": {
      "text/plain": [
       "defaultdict(dict,\n",
       "            {'A': {'D': 300, 'E': 0, 'F': 250, 'G': 0},\n",
       "             'D': {'A': 300, 'B': 0, 'C': 0},\n",
       "             'E': {'A': 0, 'B': 250, 'C': 100},\n",
       "             'F': {'A': 250, 'B': 50, 'C': 0},\n",
       "             'G': {'A': 0, 'B': 0, 'C': 350},\n",
       "             'B': {'D': 0, 'E': 250, 'F': 50, 'G': 0},\n",
       "             'C': {'D': 0, 'E': 100, 'F': 0, 'G': 350}})"
      ]
     },
     "execution_count": 123,
     "metadata": {},
     "output_type": "execute_result"
    }
   ],
   "source": [
    "transp"
   ]
  },
  {
   "cell_type": "code",
   "execution_count": 124,
   "metadata": {},
   "outputs": [],
   "source": [
    "def calculate_cost(transp, cost):\n",
    "    res = 0 \n",
    "    for v in transp:\n",
    "        for w in transp[v]:\n",
    "            res += transp[v][w] * cost[v][w]\n",
    "    return res / 2"
   ]
  },
  {
   "cell_type": "code",
   "execution_count": 125,
   "metadata": {},
   "outputs": [
    {
     "data": {
      "text/plain": [
       "18100.0"
      ]
     },
     "execution_count": 125,
     "metadata": {},
     "output_type": "execute_result"
    }
   ],
   "source": [
    "calculate_cost(transp, graph.graph)"
   ]
  },
  {
   "cell_type": "code",
   "execution_count": null,
   "metadata": {},
   "outputs": [],
   "source": []
  }
 ],
 "metadata": {
  "kernelspec": {
   "display_name": "Python 3",
   "language": "python",
   "name": "python3"
  },
  "language_info": {
   "codemirror_mode": {
    "name": "ipython",
    "version": 3
   },
   "file_extension": ".py",
   "mimetype": "text/x-python",
   "name": "python",
   "nbconvert_exporter": "python",
   "pygments_lexer": "ipython3",
   "version": "3.6.3"
  }
 },
 "nbformat": 4,
 "nbformat_minor": 2
}
