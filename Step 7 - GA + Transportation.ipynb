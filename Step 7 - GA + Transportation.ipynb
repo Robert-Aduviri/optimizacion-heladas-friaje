{
 "cells": [
  {
   "cell_type": "code",
   "execution_count": 2,
   "metadata": {},
   "outputs": [],
   "source": [
    "from collections import defaultdict\n",
    "\n",
    "class Graph:\n",
    "    def __init__(self, filename):\n",
    "        self.graph = defaultdict(dict)\n",
    "        self.nodes = {}\n",
    "        with open(filename, 'r') as f:\n",
    "            for line in f.readlines():\n",
    "                tokens = line.split()\n",
    "                if len(tokens) == 2:\n",
    "                    v, demand = tokens\n",
    "                    self.nodes[v] = int(demand)\n",
    "                elif len(tokens) == 3:\n",
    "                    v, w, cost = tokens\n",
    "                    self.graph[v][w] = int(cost)\n",
    "                    self.graph[w][v] = int(cost)"
   ]
  },
  {
   "cell_type": "code",
   "execution_count": 3,
   "metadata": {},
   "outputs": [],
   "source": [
    "graph = Graph('data/input.txt')    "
   ]
  },
  {
   "cell_type": "code",
   "execution_count": 4,
   "metadata": {},
   "outputs": [
    {
     "data": {
      "text/plain": [
       "defaultdict(dict,\n",
       "            {'A': {'D': 11, 'E': 19, 'F': 17, 'G': 18},\n",
       "             'B': {'D': 16, 'E': 14, 'F': 18, 'G': 15},\n",
       "             'C': {'D': 15, 'E': 16, 'F': 19, 'G': 13},\n",
       "             'D': {'A': 11, 'B': 16, 'C': 15},\n",
       "             'E': {'A': 19, 'B': 14, 'C': 16},\n",
       "             'F': {'A': 17, 'B': 18, 'C': 19},\n",
       "             'G': {'A': 18, 'B': 15, 'C': 13}})"
      ]
     },
     "execution_count": 4,
     "metadata": {},
     "output_type": "execute_result"
    }
   ],
   "source": [
    "graph.graph"
   ]
  },
  {
   "cell_type": "code",
   "execution_count": 5,
   "metadata": {},
   "outputs": [
    {
     "data": {
      "text/plain": [
       "{'A': 550, 'B': 300, 'C': 450, 'D': 300, 'E': 350, 'F': 300, 'G': 350}"
      ]
     },
     "execution_count": 5,
     "metadata": {},
     "output_type": "execute_result"
    }
   ],
   "source": [
    "graph.nodes"
   ]
  },
  {
   "cell_type": "code",
   "execution_count": 6,
   "metadata": {},
   "outputs": [],
   "source": [
    "chromosome = {\n",
    "    'A': 2,\n",
    "    'B': 5,\n",
    "    'C': 3,\n",
    "    'D': 7,\n",
    "    'E': 4,\n",
    "    'F': 1,\n",
    "    'G': 6\n",
    "}"
   ]
  },
  {
   "cell_type": "code",
   "execution_count": 71,
   "metadata": {},
   "outputs": [],
   "source": [
    "priorities = [0, 3, 1, 5, 6, 4, 2]\n",
    "chromosome = {node: priority for node, priority in \\\n",
    "                          zip(sorted(graph.nodes), priorities)}"
   ]
  },
  {
   "cell_type": "code",
   "execution_count": 41,
   "metadata": {},
   "outputs": [],
   "source": [
    "import random\n",
    "import numpy as np"
   ]
  },
  {
   "cell_type": "code",
   "execution_count": 93,
   "metadata": {},
   "outputs": [],
   "source": [
    "keys   = np.random.permutation(list(chromosome.keys()))\n",
    "values = np.random.permutation(list(chromosome.values()))\n",
    "chromosome = {k: v for k, v in zip(keys, values)}"
   ]
  },
  {
   "cell_type": "code",
   "execution_count": 94,
   "metadata": {},
   "outputs": [
    {
     "data": {
      "text/plain": [
       "{'A': 5, 'B': 3, 'C': 4, 'D': 2, 'E': 0, 'F': 1, 'G': 6}"
      ]
     },
     "execution_count": 94,
     "metadata": {},
     "output_type": "execute_result"
    }
   ],
   "source": [
    "chromosome"
   ]
  },
  {
   "cell_type": "markdown",
   "metadata": {},
   "source": [
    "## Chromosome decoding"
   ]
  },
  {
   "cell_type": "code",
   "execution_count": 95,
   "metadata": {},
   "outputs": [],
   "source": [
    "import copy"
   ]
  },
  {
   "cell_type": "code",
   "execution_count": 96,
   "metadata": {},
   "outputs": [],
   "source": [
    "transp = copy.deepcopy(graph.graph)\n",
    "for v in transp:\n",
    "    for w in transp[v]:\n",
    "        transp[v][w] = 0"
   ]
  },
  {
   "cell_type": "code",
   "execution_count": 97,
   "metadata": {},
   "outputs": [
    {
     "data": {
      "text/plain": [
       "defaultdict(dict,\n",
       "            {'A': {'D': 0, 'E': 0, 'F': 0, 'G': 0},\n",
       "             'B': {'D': 0, 'E': 0, 'F': 0, 'G': 0},\n",
       "             'C': {'D': 0, 'E': 0, 'F': 0, 'G': 0},\n",
       "             'D': {'A': 0, 'B': 0, 'C': 0},\n",
       "             'E': {'A': 0, 'B': 0, 'C': 0},\n",
       "             'F': {'A': 0, 'B': 0, 'C': 0},\n",
       "             'G': {'A': 0, 'B': 0, 'C': 0}})"
      ]
     },
     "execution_count": 97,
     "metadata": {},
     "output_type": "execute_result"
    }
   ],
   "source": [
    "transp"
   ]
  },
  {
   "cell_type": "code",
   "execution_count": 98,
   "metadata": {},
   "outputs": [],
   "source": [
    "cap = copy.deepcopy(graph.nodes)"
   ]
  },
  {
   "cell_type": "code",
   "execution_count": 99,
   "metadata": {},
   "outputs": [
    {
     "data": {
      "text/plain": [
       "{'A': 550, 'B': 300, 'C': 450, 'D': 300, 'E': 350, 'F': 300, 'G': 350}"
      ]
     },
     "execution_count": 99,
     "metadata": {},
     "output_type": "execute_result"
    }
   ],
   "source": [
    "cap"
   ]
  },
  {
   "cell_type": "code",
   "execution_count": 100,
   "metadata": {},
   "outputs": [],
   "source": [
    "for v in sorted(chromosome, key=chromosome.get, reverse=True):\n",
    "    for w in sorted(graph.graph[v], key=graph.graph[v].get):\n",
    "        consumption = min(cap[v], cap[w])\n",
    "        transp[v][w] += consumption\n",
    "        transp[w][v] += consumption\n",
    "        cap[v] -= consumption\n",
    "        cap[w] -= consumption"
   ]
  },
  {
   "cell_type": "code",
   "execution_count": 101,
   "metadata": {},
   "outputs": [
    {
     "data": {
      "text/plain": [
       "defaultdict(dict,\n",
       "            {'A': {'D': 300, 'E': 0, 'F': 250, 'G': 0},\n",
       "             'B': {'D': 0, 'E': 250, 'F': 50, 'G': 0},\n",
       "             'C': {'D': 0, 'E': 100, 'F': 0, 'G': 350},\n",
       "             'D': {'A': 300, 'B': 0, 'C': 0},\n",
       "             'E': {'A': 0, 'B': 250, 'C': 100},\n",
       "             'F': {'A': 250, 'B': 50, 'C': 0},\n",
       "             'G': {'A': 0, 'B': 0, 'C': 350}})"
      ]
     },
     "execution_count": 101,
     "metadata": {},
     "output_type": "execute_result"
    }
   ],
   "source": [
    "transp"
   ]
  },
  {
   "cell_type": "code",
   "execution_count": 102,
   "metadata": {},
   "outputs": [],
   "source": [
    "def calculate_cost(transp, cost):\n",
    "    res = 0 \n",
    "    for v in transp:\n",
    "        for w in transp[v]:\n",
    "            res += transp[v][w] * cost[v][w]\n",
    "    return res / 2"
   ]
  },
  {
   "cell_type": "code",
   "execution_count": 103,
   "metadata": {},
   "outputs": [
    {
     "data": {
      "text/plain": [
       "18100.0"
      ]
     },
     "execution_count": 103,
     "metadata": {},
     "output_type": "execute_result"
    }
   ],
   "source": [
    "calculate_cost(transp, graph.graph)"
   ]
  },
  {
   "cell_type": "markdown",
   "metadata": {},
   "source": [
    "## Genetic Algorithm"
   ]
  },
  {
   "cell_type": "code",
   "execution_count": 19,
   "metadata": {},
   "outputs": [
    {
     "data": {
      "text/plain": [
       "7"
      ]
     },
     "execution_count": 19,
     "metadata": {},
     "output_type": "execute_result"
    }
   ],
   "source": [
    "len(chromosome)"
   ]
  },
  {
   "cell_type": "code",
   "execution_count": 1,
   "metadata": {},
   "outputs": [],
   "source": [
    "import random\n",
    "import numpy as np\n",
    "from deap import creator, base, tools, algorithms"
   ]
  },
  {
   "cell_type": "code",
   "execution_count": 120,
   "metadata": {},
   "outputs": [
    {
     "name": "stderr",
     "output_type": "stream",
     "text": [
      "/home/raduviri/anaconda3/envs/chana/lib/python3.6/site-packages/deap/creator.py:141: RuntimeWarning: A class named 'FitnessMin' has already been created and it will be overwritten. Consider deleting previous creation of that class or rename it.\n",
      "  RuntimeWarning)\n",
      "/home/raduviri/anaconda3/envs/chana/lib/python3.6/site-packages/deap/creator.py:141: RuntimeWarning: A class named 'Individual' has already been created and it will be overwritten. Consider deleting previous creation of that class or rename it.\n",
      "  RuntimeWarning)\n"
     ]
    }
   ],
   "source": [
    "creator.create('FitnessMin', base.Fitness, weights=(-1.0,))\n",
    "creator.create('Individual', list, fitness=creator.FitnessMin)"
   ]
  },
  {
   "cell_type": "code",
   "execution_count": 122,
   "metadata": {},
   "outputs": [],
   "source": [
    "N_NODES = 7"
   ]
  },
  {
   "cell_type": "code",
   "execution_count": 123,
   "metadata": {},
   "outputs": [],
   "source": [
    "toolbox = base.Toolbox()\n",
    "\n",
    "toolbox.register('permutation', random.sample, range(N_NODES), N_NODES)\n",
    "toolbox.register('individual', tools.initIterate, creator.Individual,\n",
    "                 toolbox.permutation)\n",
    "toolbox.register('population', tools.initRepeat, list, toolbox.individual)"
   ]
  },
  {
   "cell_type": "code",
   "execution_count": 124,
   "metadata": {},
   "outputs": [
    {
     "data": {
      "text/plain": [
       "{'A': 5, 'B': 3, 'C': 4, 'D': 2, 'E': 0, 'F': 1, 'G': 6}"
      ]
     },
     "execution_count": 124,
     "metadata": {},
     "output_type": "execute_result"
    }
   ],
   "source": [
    "chromosome"
   ]
  },
  {
   "cell_type": "code",
   "execution_count": 125,
   "metadata": {},
   "outputs": [
    {
     "data": {
      "text/plain": [
       "{'A': 550, 'B': 300, 'C': 450, 'D': 300, 'E': 350, 'F': 300, 'G': 350}"
      ]
     },
     "execution_count": 125,
     "metadata": {},
     "output_type": "execute_result"
    }
   ],
   "source": [
    "graph.nodes"
   ]
  },
  {
   "cell_type": "code",
   "execution_count": 126,
   "metadata": {},
   "outputs": [],
   "source": [
    "def evalTransp(individual):\n",
    "    chromosome = {node: priority for node, priority in \\\n",
    "                          zip(sorted(graph.nodes), individual)}\n",
    "    transp = copy.deepcopy(graph.graph)\n",
    "    for v in transp:\n",
    "        for w in transp[v]:\n",
    "            transp[v][w] = 0\n",
    "    cap = copy.deepcopy(graph.nodes)\n",
    "    for v in sorted(chromosome, key=chromosome.get, reverse=True):\n",
    "        for w in sorted(graph.graph[v], key=graph.graph[v].get):\n",
    "            consumption = min(cap[v], cap[w])\n",
    "            transp[v][w] += consumption\n",
    "            transp[w][v] += consumption\n",
    "            cap[v] -= consumption\n",
    "            cap[w] -= consumption\n",
    "    return calculate_cost(transp, graph.graph),"
   ]
  },
  {
   "cell_type": "code",
   "execution_count": 127,
   "metadata": {},
   "outputs": [],
   "source": [
    "toolbox.register('evaluate', evalTransp)\n",
    "toolbox.register('mate', tools.cxPartialyMatched)\n",
    "toolbox.register('mutate', tools.mutShuffleIndexes, indpb=2.0/N_NODES)\n",
    "toolbox.register('select', tools.selTournament, tournsize=3)"
   ]
  },
  {
   "cell_type": "code",
   "execution_count": 186,
   "metadata": {},
   "outputs": [],
   "source": [
    "pop = toolbox.population(n=4)\n",
    "hof = tools.HallOfFame(1)\n",
    "stats = tools.Statistics(lambda ind: ind.fitness.values)\n",
    "stats.register('Avg', np.mean)\n",
    "stats.register('Std', np.std)\n",
    "stats.register('Min', np.min)\n",
    "stats.register('Max', np.max)"
   ]
  },
  {
   "cell_type": "code",
   "execution_count": 187,
   "metadata": {},
   "outputs": [
    {
     "name": "stdout",
     "output_type": "stream",
     "text": [
      "gen\tnevals\tAvg  \tStd    \tMin  \tMax  \n",
      "0  \t4     \t18200\t176.777\t18050\t18500\n",
      "1  \t0     \t18187.5\t181.573\t18050\t18500\n",
      "2  \t2     \t18075  \t25     \t18050\t18100\n",
      "3  \t4     \t18050  \t0      \t18050\t18050\n",
      "4  \t3     \t18050  \t0      \t18050\t18050\n",
      "5  \t0     \t18050  \t0      \t18050\t18050\n"
     ]
    }
   ],
   "source": [
    "pop, log = algorithms.eaSimple(pop, toolbox, cxpb=0.5, mutpb=0.2, ngen=5, \n",
    "                    stats=stats, halloffame=hof, verbose=True)"
   ]
  },
  {
   "cell_type": "code",
   "execution_count": 188,
   "metadata": {},
   "outputs": [
    {
     "data": {
      "text/plain": [
       "[[1, 2, 4, 6, 5, 0, 3]]"
      ]
     },
     "execution_count": 188,
     "metadata": {},
     "output_type": "execute_result"
    }
   ],
   "source": [
    "hof.items"
   ]
  },
  {
   "cell_type": "code",
   "execution_count": 189,
   "metadata": {},
   "outputs": [
    {
     "data": {
      "text/plain": [
       "(18050.0,)"
      ]
     },
     "execution_count": 189,
     "metadata": {},
     "output_type": "execute_result"
    }
   ],
   "source": [
    "evalTransp(hof.items[0])"
   ]
  },
  {
   "cell_type": "code",
   "execution_count": 190,
   "metadata": {},
   "outputs": [
    {
     "name": "stdout",
     "output_type": "stream",
     "text": [
      "The autoreload extension is already loaded. To reload it, use:\n",
      "  %reload_ext autoreload\n"
     ]
    }
   ],
   "source": [
    "%load_ext autoreload\n",
    "%autoreload 2\n",
    "%matplotlib inline\n",
    "%config InlineBackend.figure_format = 'retina'\n",
    "import numpy as np\n",
    "import pandas as pd\n",
    "import matplotlib.pyplot as plt\n",
    "import seaborn as sns\n",
    "sns.set()"
   ]
  },
  {
   "cell_type": "code",
   "execution_count": 191,
   "metadata": {},
   "outputs": [
    {
     "data": {
      "text/plain": [
       "<matplotlib.collections.PolyCollection at 0x7f7f08a63ba8>"
      ]
     },
     "execution_count": 191,
     "metadata": {},
     "output_type": "execute_result"
    },
    {
     "data": {
      "image/png": "[encoded data removed]",
      "text/plain": [
       "<matplotlib.figure.Figure at 0x7f7f08a061d0>"
      ]
     },
     "metadata": {
      "image/png": {
       "height": 302,
       "width": 611
      }
     },
     "output_type": "display_data"
    }
   ],
   "source": [
    "fig, ax = plt.subplots(figsize=(10,5))\n",
    "ax.plot([x['gen'] for x in log],\n",
    "        [x['Avg'] for x in log])\n",
    "ax.fill_between([x['gen'] for x in log],\n",
    "                 [x['Avg'] - x['Std'] for x in log],\n",
    "                 [x['Avg'] + x['Std'] for x in log],\n",
    "                 alpha=0.3)"
   ]
  },
  {
   "cell_type": "code",
   "execution_count": 192,
   "metadata": {},
   "outputs": [
    {
     "data": {
      "text/plain": [
       "[{'Avg': 18200.0,\n",
       "  'Max': 18500.0,\n",
       "  'Min': 18050.0,\n",
       "  'Std': 176.7766952966369,\n",
       "  'gen': 0,\n",
       "  'nevals': 4},\n",
       " {'Avg': 18187.5,\n",
       "  'Max': 18500.0,\n",
       "  'Min': 18050.0,\n",
       "  'Std': 181.57298807917437,\n",
       "  'gen': 1,\n",
       "  'nevals': 0},\n",
       " {'Avg': 18075.0,\n",
       "  'Max': 18100.0,\n",
       "  'Min': 18050.0,\n",
       "  'Std': 25.0,\n",
       "  'gen': 2,\n",
       "  'nevals': 2},\n",
       " {'Avg': 18050.0,\n",
       "  'Max': 18050.0,\n",
       "  'Min': 18050.0,\n",
       "  'Std': 0.0,\n",
       "  'gen': 3,\n",
       "  'nevals': 4},\n",
       " {'Avg': 18050.0,\n",
       "  'Max': 18050.0,\n",
       "  'Min': 18050.0,\n",
       "  'Std': 0.0,\n",
       "  'gen': 4,\n",
       "  'nevals': 3},\n",
       " {'Avg': 18050.0,\n",
       "  'Max': 18050.0,\n",
       "  'Min': 18050.0,\n",
       "  'Std': 0.0,\n",
       "  'gen': 5,\n",
       "  'nevals': 0}]"
      ]
     },
     "execution_count": 192,
     "metadata": {},
     "output_type": "execute_result"
    }
   ],
   "source": [
    "log"
   ]
  },
  {
   "cell_type": "code",
   "execution_count": null,
   "metadata": {},
   "outputs": [],
   "source": []
  }
 ],
 "metadata": {
  "kernelspec": {
   "display_name": "Python 3",
   "language": "python",
   "name": "python3"
  },
  "language_info": {
   "codemirror_mode": {
    "name": "ipython",
    "version": 3
   },
   "file_extension": ".py",
   "mimetype": "text/x-python",
   "name": "python",
   "nbconvert_exporter": "python",
   "pygments_lexer": "ipython3",
   "version": "3.6.4"
  }
 },
 "nbformat": 4,
 "nbformat_minor": 2
}
