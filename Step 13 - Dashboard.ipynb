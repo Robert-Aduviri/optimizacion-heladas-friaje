{
 "cells": [
  {
   "cell_type": "code",
   "execution_count": 1,
   "metadata": {},
   "outputs": [],
   "source": [
    "%load_ext autoreload\n",
    "%autoreload 2\n",
    "%matplotlib inline\n",
    "%config InlineBackend.figure_format = 'retina'\n",
    "from dashboard import render_dashboard"
   ]
  },
  {
   "cell_type": "markdown",
   "metadata": {},
   "source": [
    "## Dashboard"
   ]
  },
  {
   "cell_type": "code",
   "execution_count": 2,
   "metadata": {},
   "outputs": [
    {
     "data": {
      "application/vnd.jupyter.widget-view+json": {
       "model_id": "0166318f28b847b6809bdb025d96952c",
       "version_major": 2,
       "version_minor": 0
      },
      "text/html": [
       "<p>Failed to display Jupyter Widget of type <code>VBox</code>.</p>\n",
       "<p>\n",
       "  If you're reading this message in the Jupyter Notebook or JupyterLab Notebook, it may mean\n",
       "  that the widgets JavaScript is still loading. If this message persists, it\n",
       "  likely means that the widgets JavaScript library is either not installed or\n",
       "  not enabled. See the <a href=\"https://ipywidgets.readthedocs.io/en/stable/user_install.html\">Jupyter\n",
       "  Widgets Documentation</a> for setup instructions.\n",
       "</p>\n",
       "<p>\n",
       "  If you're reading this message in another frontend (for example, a static\n",
       "  rendering on GitHub or <a href=\"https://nbviewer.jupyter.org/\">NBViewer</a>),\n",
       "  it may mean that your frontend doesn't currently support widgets.\n",
       "</p>\n"
      ],
      "text/plain": [
       "VBox(children=(HBox(children=(VBox(children=(IntSlider(value=100, description='Tamaño de Población', max=300, min=50, style=SliderStyle(description_width='initial')), IntSlider(value=20, description='# Generaciones', min=5, style=SliderStyle(description_width='initial')), Dropdown(description='Dataset', options={'test_10': ['test_10.txt', 'test_10_ampl.mod'], 'test_15': ['test_15.txt', 'test_15_ampl.mod'], 'test_20': ['test_20.txt', 'test_20_ampl.mod'], 'test_30': ['test_30.txt', 'test_30_ampl.mod'], 'test_40': ['test_40.txt', 'test_40_ampl.mod'], 'test_50': ['test_50.txt', 'test_50_ampl.mod']}, value=['test_10.txt', 'test_10_ampl.mod']))), Box(layout=Layout(width='200px')), VBox(children=(Button(description='Ejecutar Algoritmo Genético', layout=Layout(width='99%'), style=ButtonStyle()), Button(description='Ejecutar Couenne Solver', layout=Layout(width='99%'), style=ButtonStyle()))), VBox(children=(Button(description='Mostrar registro de optimización', layout=Layout(width='99%'), style=ButtonStyle()), Button(description='Mostrar solución', layout=Layout(width='99%'), style=ButtonStyle()))))), HBox(children=(Output(), Output()))))"
      ]
     },
     "metadata": {},
     "output_type": "display_data"
    }
   ],
   "source": [
    "render_dashboard()"
   ]
  },
  {
   "cell_type": "code",
   "execution_count": null,
   "metadata": {},
   "outputs": [],
   "source": []
  }
 ],
 "metadata": {
  "kernelspec": {
   "display_name": "Python 3",
   "language": "python",
   "name": "python3"
  },
  "language_info": {
   "codemirror_mode": {
    "name": "ipython",
    "version": 3
   },
   "file_extension": ".py",
   "mimetype": "text/x-python",
   "name": "python",
   "nbconvert_exporter": "python",
   "pygments_lexer": "ipython3",
   "version": "3.6.4"
  }
 },
 "nbformat": 4,
 "nbformat_minor": 2
}
