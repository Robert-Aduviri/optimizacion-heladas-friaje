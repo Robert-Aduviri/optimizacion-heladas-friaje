{
 "cells": [
  {
   "cell_type": "code",
   "execution_count": 1,
   "metadata": {},
   "outputs": [],
   "source": [
    "%load_ext autoreload\n",
    "%autoreload 2\n",
    "%matplotlib inline\n",
    "%config InlineBackend.figure_format = 'retina'\n",
    "import seaborn as sns\n",
    "from main_dashboard import render_dashboard\n",
    "sns.set()"
   ]
  },
  {
   "cell_type": "code",
   "execution_count": 22,
   "metadata": {},
   "outputs": [
    {
     "data": {
      "application/vnd.jupyter.widget-view+json": {
       "model_id": "baa617b677ae48b2a50e74556a1be346",
       "version_major": 2,
       "version_minor": 0
      },
      "text/html": [
       "<p>Failed to display Jupyter Widget of type <code>VBox</code>.</p>\n",
       "<p>\n",
       "  If you're reading this message in the Jupyter Notebook or JupyterLab Notebook, it may mean\n",
       "  that the widgets JavaScript is still loading. If this message persists, it\n",
       "  likely means that the widgets JavaScript library is either not installed or\n",
       "  not enabled. See the <a href=\"https://ipywidgets.readthedocs.io/en/stable/user_install.html\">Jupyter\n",
       "  Widgets Documentation</a> for setup instructions.\n",
       "</p>\n",
       "<p>\n",
       "  If you're reading this message in another frontend (for example, a static\n",
       "  rendering on GitHub or <a href=\"https://nbviewer.jupyter.org/\">NBViewer</a>),\n",
       "  it may mean that your frontend doesn't currently support widgets.\n",
       "</p>\n"
      ],
      "text/plain": [
       "VBox(children=(Box(layout=Layout(height='20px')), VBox(children=(VBox(children=(HBox(children=(IntSlider(value=15, description='# Nodes', max=30, min=5), Box(layout=Layout(width='80px')), IntSlider(value=4, description='# Levels', max=8, min=3))), HBox(children=(IntSlider(value=3, description='# Items', max=7, min=1), Box(layout=Layout(width='80px')), Button(description='Generate dataset', style=ButtonStyle()))))), HBox(children=(Dropdown(description='Dataset', options={'test.txt': 'test.txt', 'test30.txt': 'test30.txt'}, value='test.txt'), Box(layout=Layout(width='80px')), Button(description='Load Dataset', style=ButtonStyle()))))), Tab(children=(VBox(children=(HBox(children=(IntSlider(value=100, description='Population size', max=300, min=50, step=10, style=SliderStyle(description_width='initial')), IntSlider(value=50, description='# Generations', max=300, min=1, style=SliderStyle(description_width='initial')), IntSlider(value=10, description='Early stopping rounds', max=50, min=1, style=SliderStyle(description_width='initial')))), HBox(children=(Button(description='Run Genetic Algorithm', layout=Layout(width='20%'), style=ButtonStyle()), Box(layout=Layout(width='80px')), Button(description='Export solutions', style=ButtonStyle()))), VBox(children=(Output(), HBox(children=(Output(), Output()), layout=Layout(align_items='center', display='flex', flex_flow='row', justify_content='space-around', margin='0 auto', max_width='800px', width='100%'))), layout=Layout(align_items='center', display='flex', flex_flow='column', justify_content='space-around', margin='0 auto', max_width='800px', width='100%'))), layout=Layout(width='900px')), VBox(children=(IntSlider(value=4, description='$f_2(x)$ weight ($10^x$)', max=8, style=SliderStyle(description_width='initial')), HBox(children=(Button(description='Run Couenne Solver', layout=Layout(width='20%'), style=ButtonStyle()), Box(layout=Layout(width='80px')), Button(description='Export solution', style=ButtonStyle()))), Output()), layout=Layout(width='900px'))), _titles={'0': 'Genetic Algorithm', '1': 'Solver'}), Box(layout=Layout(height='20px'))), layout=Layout(align_items='center', border='solid', display='flex', flex_flow='column', justify_content='space-around', margin='0 auto', max_width='1000px', width='100%'))"
      ]
     },
     "metadata": {},
     "output_type": "display_data"
    }
   ],
   "source": [
    "render_dashboard()"
   ]
  },
  {
   "cell_type": "code",
   "execution_count": null,
   "metadata": {},
   "outputs": [],
   "source": []
  }
 ],
 "metadata": {
  "kernelspec": {
   "display_name": "Python 3",
   "language": "python",
   "name": "python3"
  },
  "language_info": {
   "codemirror_mode": {
    "name": "ipython",
    "version": 3
   },
   "file_extension": ".py",
   "mimetype": "text/x-python",
   "name": "python",
   "nbconvert_exporter": "python",
   "pygments_lexer": "ipython3",
   "version": "3.6.4"
  }
 },
 "nbformat": 4,
 "nbformat_minor": 2
}
