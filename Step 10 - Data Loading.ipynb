{
 "cells": [
  {
   "cell_type": "code",
   "execution_count": 1,
   "metadata": {},
   "outputs": [],
   "source": [
    "%load_ext autoreload\n",
    "%autoreload 2\n",
    "%matplotlib inline\n",
    "%config InlineBackend.figure_format = 'retina'\n",
    "import numpy as np\n",
    "import pandas as pd\n",
    "import matplotlib.pyplot as plt\n",
    "import seaborn as sns\n",
    "sns.set()"
   ]
  },
  {
   "cell_type": "code",
   "execution_count": 26,
   "metadata": {},
   "outputs": [],
   "source": [
    "def load_file(input_file):\n",
    "    with open(input_file, 'r') as f:\n",
    "        lines = f.read().strip().split('\\n')\n",
    "        var_order = 'EDWdgvtac'\n",
    "        params = {}\n",
    "        for i in range(6):\n",
    "            params[var_order[i]] = [int(n) for n in lines[i].split()[1:]]\n",
    "        idx = 6\n",
    "        for i in range(3):\n",
    "            n_rows = len(params[var_order[i]])\n",
    "            params[lines[idx]] = np.array(\n",
    "                            [line.split() for line in \\\n",
    "                            lines[idx+1 : idx+1+n_rows]],\n",
    "                            dtype=float)\n",
    "            idx += 1 + n_rows\n",
    "    return [params[var] for var in var_order]"
   ]
  },
  {
   "cell_type": "code",
   "execution_count": 27,
   "metadata": {},
   "outputs": [],
   "source": [
    "E, D, W, d, g, v, t, a, c = load_file('data/costa.txt')"
   ]
  },
  {
   "cell_type": "code",
   "execution_count": 32,
   "metadata": {},
   "outputs": [
    {
     "data": {
      "text/plain": [
       "['E', 336, 317, 331, 376]"
      ]
     },
     "execution_count": 32,
     "metadata": {},
     "output_type": "execute_result"
    }
   ],
   "source": [
    "['E'] + list(np.random.randint(300, 400, 4, ))"
   ]
  },
  {
   "cell_type": "code",
   "execution_count": 34,
   "metadata": {},
   "outputs": [
    {
     "data": {
      "text/plain": [
       "array([40, 34, 38, 45])"
      ]
     },
     "execution_count": 34,
     "metadata": {},
     "output_type": "execute_result"
    }
   ],
   "source": [
    "np.random.randint(300, 500, 4) // 10"
   ]
  },
  {
   "cell_type": "code",
   "execution_count": 56,
   "metadata": {},
   "outputs": [],
   "source": [
    "def generate_file(output_file, \n",
    "                  n_S, S_cap, n_P, P_cap, \n",
    "                  n_D, D_cap, n_C, C_dem, \n",
    "                  P_cost, D_cost, \n",
    "                  SP_cost, PD_cost, DC_cost, random_state=None):\n",
    "    if random_state:\n",
    "        np.random.seed(random_state)\n",
    "    with open(output_file, 'w') as f:\n",
    "        var_order = 'EDWdgvtac'\n",
    "        vals_order = [(n_S, S_cap), (n_P, P_cap), (n_D, D_cap), \n",
    "                      (n_C, C_dem), (n_P, P_cost), (n_D, D_cost),\n",
    "                      SP_cost, PD_cost, DC_cost]\n",
    "        for i in range(6):\n",
    "            print(' '.join([var_order[i]] + [str(n) for n in \\\n",
    "                10 * np.random.randint(vals_order[i][1][0]//10, \n",
    "                                       vals_order[i][1][1]//10, \n",
    "                                       vals_order[i][0])]), file=f)\n",
    "        for i in range(3):\n",
    "            print(var_order[6+i], file=f)\n",
    "            for j in range(vals_order[i][0]):\n",
    "                print(' '.join([str(n) for n in \\\n",
    "                        np.random.randint(vals_order[6+i][0],\n",
    "                                          vals_order[6+i][1],\n",
    "                                          vals_order[i+1][0])]), file=f)        "
   ]
  },
  {
   "cell_type": "code",
   "execution_count": null,
   "metadata": {},
   "outputs": [],
   "source": []
  },
  {
   "cell_type": "code",
   "execution_count": 57,
   "metadata": {},
   "outputs": [],
   "source": [
    "generate_file('data/output.txt',\n",
    "                 3, (400, 600), 4, (300, 500),\n",
    "                 4, (150, 500), 5, (100, 300),\n",
    "                 (900, 1300), (900, 1300),\n",
    "                 (2, 7), (1, 8), (3, 9), random_state=42\n",
    "             )"
   ]
  },
  {
   "cell_type": "code",
   "execution_count": null,
   "metadata": {},
   "outputs": [],
   "source": []
  }
 ],
 "metadata": {
  "kernelspec": {
   "display_name": "Python 3",
   "language": "python",
   "name": "python3"
  },
  "language_info": {
   "codemirror_mode": {
    "name": "ipython",
    "version": 3
   },
   "file_extension": ".py",
   "mimetype": "text/x-python",
   "name": "python",
   "nbconvert_exporter": "python",
   "pygments_lexer": "ipython3",
   "version": "3.6.3"
  }
 },
 "nbformat": 4,
 "nbformat_minor": 2
}
