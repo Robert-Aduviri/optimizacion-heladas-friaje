{
 "cells": [
  {
   "cell_type": "code",
   "execution_count": 1,
   "metadata": {},
   "outputs": [],
   "source": [
    "%load_ext autoreload\n",
    "%autoreload 2\n",
    "%matplotlib inline\n",
    "%config InlineBackend.figure_format = 'retina'"
   ]
  },
  {
   "cell_type": "code",
   "execution_count": 2,
   "metadata": {},
   "outputs": [],
   "source": [
    "from utils import load_file, run_genetic_algorithm, plot_log, decode_chromosome, plot_graph, chromosome_fitness\n",
    "import seaborn as sns\n",
    "sns.set()"
   ]
  },
  {
   "cell_type": "code",
   "execution_count": null,
   "metadata": {},
   "outputs": [],
   "source": [
    "E, D, W, d, g, v, t, a, c = load_file('data/test_10.txt')"
   ]
  },
  {
   "cell_type": "code",
   "execution_count": null,
   "metadata": {},
   "outputs": [],
   "source": [
    "from utils import run_genetic_algorithm\n",
    "%time population, solutions, log = run_genetic_algorithm(chromosome_fitness, \\\n",
    "                                E, D, W, d, g, v, t, a, c, \\\n",
    "                                pop_size=100, n_generations=20, \\\n",
    "                                n_solutions=5, crossover_p=0.5, \\\n",
    "                                mutation_p=0.2)"
   ]
  },
  {
   "cell_type": "code",
   "execution_count": null,
   "metadata": {},
   "outputs": [],
   "source": [
    "%time !glpsol --math data/test_10_ampl.mod"
   ]
  },
  {
   "cell_type": "markdown",
   "metadata": {},
   "source": [
    "## Dashboard widgets"
   ]
  },
  {
   "cell_type": "code",
   "execution_count": 3,
   "metadata": {},
   "outputs": [],
   "source": [
    "from IPython.display import display\n",
    "import ipywidgets as widgets"
   ]
  },
  {
   "cell_type": "code",
   "execution_count": 4,
   "metadata": {},
   "outputs": [],
   "source": [
    "inp_pop_size = widgets.IntSlider(100, 50, 300, description='Population size',\n",
    "                      style={'description_width': 'initial'})\n",
    "inp_n_generations = widgets.IntSlider(20, 5, 100, description='# Generations',\n",
    "                      style={'description_width': 'initial'})"
   ]
  },
  {
   "cell_type": "code",
   "execution_count": 5,
   "metadata": {},
   "outputs": [],
   "source": [
    "import os\n",
    "sel_dataset_options = {file[:-4]: [file, file.replace('.txt', '_ampl.mod')] \\\n",
    "               for file in sorted(os.listdir('data')) \\\n",
    "               if file.startswith('test_') and \\\n",
    "                  file.endswith('.txt')}\n",
    "sel_dataset = widgets.Dropdown(\n",
    "    options = sel_dataset_options,\n",
    "    description='Dataset',\n",
    "    value=sel_dataset_options[sorted(list(sel_dataset_options))[0]]\n",
    ")"
   ]
  },
  {
   "cell_type": "code",
   "execution_count": 6,
   "metadata": {},
   "outputs": [],
   "source": [
    "btn_run_ga   = widgets.Button(description='Run genetic algorithm')\n",
    "btn_run_glpk = widgets.Button(description='Run GLPK solver')\n",
    "output_log    = widgets.Output()\n",
    "output_plots  = widgets.Output()"
   ]
  },
  {
   "cell_type": "code",
   "execution_count": 7,
   "metadata": {},
   "outputs": [],
   "source": [
    "optimization_log = None"
   ]
  },
  {
   "cell_type": "code",
   "execution_count": 8,
   "metadata": {},
   "outputs": [],
   "source": [
    "def run_ga(e):\n",
    "    global optimization_log\n",
    "    with output_log:\n",
    "        E, D, W, d, g, v, t, a, c = load_file(f'data/{sel_dataset.value[0]}')\n",
    "        population, solutions, log = run_genetic_algorithm(\n",
    "                                E, D, W, d, g, v, t, a, c, \\\n",
    "                                pop_size=inp_pop_size.value, \n",
    "                                n_generations=inp_n_generations.value, \\\n",
    "                                n_solutions=5, crossover_p=0.5, \\\n",
    "                                mutation_p=0.2)  \n",
    "        optimization_log = log\n",
    "    output_log.clear_output(wait=True)\n",
    "btn_run_ga.on_click(run_ga)"
   ]
  },
  {
   "cell_type": "code",
   "execution_count": 9,
   "metadata": {},
   "outputs": [],
   "source": [
    "btn_plot_opt_log  = widgets.Button(description='Plot optimization log')\n",
    "btn_plot_solution = widgets.Button(description='Plot solution')\n",
    "\n",
    "def plot_opt_log(e):\n",
    "    with output_plots:\n",
    "        if optimization_log:            \n",
    "            ax = plot_log(optimization_log, optimal_value=None, min_max=False)\n",
    "            display(ax.figure)\n",
    "    output_plots.clear_output(wait=True)\n",
    "            \n",
    "btn_plot_opt_log.on_click(plot_opt_log)"
   ]
  },
  {
   "cell_type": "code",
   "execution_count": 10,
   "metadata": {},
   "outputs": [],
   "source": [
    "def render_dashboard():\n",
    "    options = widgets.VBox([inp_pop_size,\n",
    "                            inp_n_generations,\n",
    "                            sel_dataset])\n",
    "    actions = widgets.VBox([btn_run_ga,\n",
    "                            btn_run_glpk])\n",
    "    plots = widgets.VBox([btn_plot_opt_log,\n",
    "                          btn_plot_solution])\n",
    "    input_panel  = widgets.HBox([options, actions, plots])\n",
    "    output_panel = widgets.HBox([output_log, output_plots])\n",
    "    return widgets.VBox([input_panel,\n",
    "                  output_panel])"
   ]
  },
  {
   "cell_type": "markdown",
   "metadata": {},
   "source": [
    "## Dashboard"
   ]
  },
  {
   "cell_type": "code",
   "execution_count": 11,
   "metadata": {},
   "outputs": [
    {
     "data": {
      "application/vnd.jupyter.widget-view+json": {
       "model_id": "46d23c504d614a96b3ec4b2d98854206",
       "version_major": 2,
       "version_minor": 0
      },
      "text/html": [
       "<p>Failed to display Jupyter Widget of type <code>VBox</code>.</p>\n",
       "<p>\n",
       "  If you're reading this message in the Jupyter Notebook or JupyterLab Notebook, it may mean\n",
       "  that the widgets JavaScript is still loading. If this message persists, it\n",
       "  likely means that the widgets JavaScript library is either not installed or\n",
       "  not enabled. See the <a href=\"https://ipywidgets.readthedocs.io/en/stable/user_install.html\">Jupyter\n",
       "  Widgets Documentation</a> for setup instructions.\n",
       "</p>\n",
       "<p>\n",
       "  If you're reading this message in another frontend (for example, a static\n",
       "  rendering on GitHub or <a href=\"https://nbviewer.jupyter.org/\">NBViewer</a>),\n",
       "  it may mean that your frontend doesn't currently support widgets.\n",
       "</p>\n"
      ],
      "text/plain": [
       "VBox(children=(HBox(children=(VBox(children=(IntSlider(value=100, description='Population size', max=300, min=50, style=SliderStyle(description_width='initial')), IntSlider(value=20, description='# Generations', min=5, style=SliderStyle(description_width='initial')), Dropdown(description='Dataset', options={'test_10': ['test_10.txt', 'test_10_ampl.mod'], 'test_15': ['test_15.txt', 'test_15_ampl.mod'], 'test_20': ['test_20.txt', 'test_20_ampl.mod'], 'test_30': ['test_30.txt', 'test_30_ampl.mod'], 'test_40': ['test_40.txt', 'test_40_ampl.mod'], 'test_50': ['test_50.txt', 'test_50_ampl.mod']}, value=['test_10.txt', 'test_10_ampl.mod']))), VBox(children=(Button(description='Run genetic algorithm', style=ButtonStyle()), Button(description='Run GLPK solver', style=ButtonStyle()))), VBox(children=(Button(description='Plot optimization log', style=ButtonStyle()), Button(description='Plot solution', style=ButtonStyle()))))), HBox(children=(Output(), Output()))))"
      ]
     },
     "metadata": {},
     "output_type": "display_data"
    }
   ],
   "source": [
    "render_dashboard()"
   ]
  },
  {
   "cell_type": "code",
   "execution_count": null,
   "metadata": {},
   "outputs": [],
   "source": []
  }
 ],
 "metadata": {
  "kernelspec": {
   "display_name": "Python 3",
   "language": "python",
   "name": "python3"
  },
  "language_info": {
   "codemirror_mode": {
    "name": "ipython",
    "version": 3
   },
   "file_extension": ".py",
   "mimetype": "text/x-python",
   "name": "python",
   "nbconvert_exporter": "python",
   "pygments_lexer": "ipython3",
   "version": "3.6.3"
  }
 },
 "nbformat": 4,
 "nbformat_minor": 2
}
