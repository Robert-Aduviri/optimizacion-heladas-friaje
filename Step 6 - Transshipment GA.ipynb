{
 "cells": [
  {
   "cell_type": "code",
   "execution_count": 103,
   "metadata": {},
   "outputs": [],
   "source": [
    "import numpy as np"
   ]
  },
  {
   "cell_type": "code",
   "execution_count": 104,
   "metadata": {},
   "outputs": [],
   "source": [
    "T = 6\n",
    "K = list('abcdefgh')\n",
    "LINKS = [('a','c'), ('b','c'), ('c','d'), ('c','e'), \n",
    "         ('d','f'), ('d','g'), ('e','g'), ('e','h')]\n",
    "CapacidadVeh = 20\n",
    "CostoTransp = np.ones((len(K),len(K))) * 10"
   ]
  },
  {
   "cell_type": "code",
   "execution_count": 105,
   "metadata": {},
   "outputs": [],
   "source": [
    "K2idx = {c: idx for idx, c in enumerate(K)}"
   ]
  },
  {
   "cell_type": "code",
   "execution_count": 106,
   "metadata": {},
   "outputs": [],
   "source": [
    "Demanda0 = [0,0,0,30,20,40,40,40]\n",
    "Inv0     = [100,80,10,0,0,0,0,0]\n",
    "VehDisp0 = [10,10,0,0,0,0,0,0]"
   ]
  },
  {
   "cell_type": "code",
   "execution_count": 107,
   "metadata": {},
   "outputs": [
    {
     "data": {
      "text/plain": [
       "(170, 190)"
      ]
     },
     "execution_count": 107,
     "metadata": {},
     "output_type": "execute_result"
    }
   ],
   "source": [
    "sum(Demanda0), sum(Inv0)"
   ]
  },
  {
   "cell_type": "code",
   "execution_count": 108,
   "metadata": {},
   "outputs": [],
   "source": [
    "Veh = np.zeros((len(K),len(K),T))\n",
    "DemandaNS = np.zeros((len(K),T))\n",
    "Consumo   = np.zeros((len(K),T))\n",
    "Inv       = np.zeros((len(K),T))\n",
    "VehDisp   = np.zeros((len(K),T))"
   ]
  },
  {
   "cell_type": "code",
   "execution_count": 109,
   "metadata": {},
   "outputs": [],
   "source": [
    "Transp = np.zeros((len(K),len(K),T))"
   ]
  },
  {
   "cell_type": "code",
   "execution_count": 46,
   "metadata": {},
   "outputs": [],
   "source": [
    "Transp[K2idx['a'],K2idx['c']] = [100,0,0,0,0,0]\n",
    "Transp[K2idx['b'],K2idx['c']] = [ 80,0,0,0,0,0]\n",
    "Transp[K2idx['c'],K2idx['d']] = [ 0,80,0,0,0,0]\n",
    "Transp[K2idx['c'],K2idx['e']] = [0,100,0,0,0,0]\n",
    "Transp[K2idx['d'],K2idx['f']] = [ 0,0,40,0,0,0]\n",
    "Transp[K2idx['d'],K2idx['g']] = [  0,0,0,0,0,0]\n",
    "Transp[K2idx['e'],K2idx['g']] = [ 0,0,40,0,0,0]\n",
    "Transp[K2idx['e'],K2idx['h']] = [ 0,0,40,0,0,0]"
   ]
  },
  {
   "cell_type": "code",
   "execution_count": 110,
   "metadata": {},
   "outputs": [],
   "source": [
    "Transp[K2idx['a'],K2idx['c']] = [ 80,0,0,0,0,0]\n",
    "Transp[K2idx['b'],K2idx['c']] = [ 80,0,0,0,0,0]\n",
    "Transp[K2idx['c'],K2idx['d']] = [10,100,0,0,0,0]\n",
    "Transp[K2idx['c'],K2idx['e']] = [ 0,60,0,0,0,0]\n",
    "Transp[K2idx['d'],K2idx['f']] = [ 0,0,40,0,0,0]\n",
    "Transp[K2idx['d'],K2idx['g']] = [ 0,0,40,0,0,0]\n",
    "Transp[K2idx['e'],K2idx['g']] = [ 0,0, 0,0,0,0]\n",
    "Transp[K2idx['e'],K2idx['h']] = [ 0,0,40,0,0,0]"
   ]
  },
  {
   "cell_type": "markdown",
   "metadata": {},
   "source": [
    "## Init"
   ]
  },
  {
   "cell_type": "code",
   "execution_count": 111,
   "metadata": {},
   "outputs": [],
   "source": [
    "Inv[:,0]       = Inv0\n",
    "VehDisp[:,0]   = VehDisp0\n",
    "DemandaNS[:,0] = Demanda0"
   ]
  },
  {
   "cell_type": "code",
   "execution_count": 112,
   "metadata": {},
   "outputs": [
    {
     "data": {
      "text/plain": [
       "array([[100.,   0.,   0.,   0.,   0.,   0.],\n",
       "       [ 80.,   0.,   0.,   0.,   0.,   0.],\n",
       "       [ 10.,   0.,   0.,   0.,   0.,   0.],\n",
       "       [  0.,   0.,   0.,   0.,   0.,   0.],\n",
       "       [  0.,   0.,   0.,   0.,   0.,   0.],\n",
       "       [  0.,   0.,   0.,   0.,   0.,   0.],\n",
       "       [  0.,   0.,   0.,   0.,   0.,   0.],\n",
       "       [  0.,   0.,   0.,   0.,   0.,   0.]])"
      ]
     },
     "execution_count": 112,
     "metadata": {},
     "output_type": "execute_result"
    }
   ],
   "source": [
    "Inv"
   ]
  },
  {
   "cell_type": "markdown",
   "metadata": {},
   "source": [
    "## Genotype => Phenotype"
   ]
  },
  {
   "cell_type": "code",
   "execution_count": 113,
   "metadata": {},
   "outputs": [],
   "source": [
    "for t in range(1,T):\n",
    "    for k in range(len(K)):\n",
    "        consumo = max(0, min(Inv[k,t-1] \\\n",
    "                        + sum(Transp[j,k,t-1] for j in range(len(K))) \\\n",
    "                        - sum(Transp[k,j,t-1] for j in range(len(K))),\n",
    "                            DemandaNS[k,t-1]))\n",
    "        Inv[k,t] = Inv[k,t-1] \\\n",
    "                + sum(Transp[j,k,t-1] for j in range(len(K))) \\\n",
    "                - consumo \\\n",
    "                - sum(Transp[k,j,t-1] for j in range(len(K))) \n",
    "        DemandaNS[k,t] = DemandaNS[k,t-1] - consumo"
   ]
  },
  {
   "cell_type": "code",
   "execution_count": 114,
   "metadata": {},
   "outputs": [
    {
     "data": {
      "text/plain": [
       "array([[100.,  20.,  20.,  20.,  20.,  20.],\n",
       "       [ 80.,   0.,   0.,   0.,   0.,   0.],\n",
       "       [ 10., 160.,   0.,   0.,   0.,   0.],\n",
       "       [  0.,   0.,  80.,   0.,   0.,   0.],\n",
       "       [  0.,   0.,  40.,   0.,   0.,   0.],\n",
       "       [  0.,   0.,   0.,   0.,   0.,   0.],\n",
       "       [  0.,   0.,   0.,   0.,   0.,   0.],\n",
       "       [  0.,   0.,   0.,   0.,   0.,   0.]])"
      ]
     },
     "execution_count": 114,
     "metadata": {},
     "output_type": "execute_result"
    }
   ],
   "source": [
    "Inv"
   ]
  },
  {
   "cell_type": "code",
   "execution_count": 115,
   "metadata": {},
   "outputs": [
    {
     "data": {
      "text/plain": [
       "array([[ 0.,  0.,  0.,  0.,  0.,  0.],\n",
       "       [ 0.,  0.,  0.,  0.,  0.,  0.],\n",
       "       [ 0.,  0.,  0.,  0.,  0.,  0.],\n",
       "       [30., 20.,  0.,  0.,  0.,  0.],\n",
       "       [20., 20.,  0.,  0.,  0.,  0.],\n",
       "       [40., 40., 40.,  0.,  0.,  0.],\n",
       "       [40., 40., 40.,  0.,  0.,  0.],\n",
       "       [40., 40., 40.,  0.,  0.,  0.]])"
      ]
     },
     "execution_count": 115,
     "metadata": {},
     "output_type": "execute_result"
    }
   ],
   "source": [
    "DemandaNS"
   ]
  },
  {
   "cell_type": "markdown",
   "metadata": {},
   "source": [
    "## Validation"
   ]
  },
  {
   "cell_type": "code",
   "execution_count": 116,
   "metadata": {},
   "outputs": [
    {
     "data": {
      "text/plain": [
       "True"
      ]
     },
     "execution_count": 116,
     "metadata": {},
     "output_type": "execute_result"
    }
   ],
   "source": [
    "import itertools\n",
    "all(sum(Transp[k,j,t] for j in range(len(K))) <= Inv[k,t] \\\n",
    "    for k,t in itertools.product(range(len(K)), range(T)))"
   ]
  },
  {
   "cell_type": "code",
   "execution_count": 120,
   "metadata": {},
   "outputs": [],
   "source": [
    "# Should be capacity check\n",
    "for k,j,t in itertools.product(range(len(K)), range(len(K)), range(T)):\n",
    "    Veh[k,j,t] = np.ceil(Transp[k,j,t] / CapacidadVeh) "
   ]
  },
  {
   "cell_type": "code",
   "execution_count": 121,
   "metadata": {},
   "outputs": [
    {
     "data": {
      "text/plain": [
       "array([[[0., 0., 0., 0., 0., 0.],\n",
       "        [0., 0., 0., 0., 0., 0.],\n",
       "        [4., 0., 0., 0., 0., 0.],\n",
       "        [0., 0., 0., 0., 0., 0.],\n",
       "        [0., 0., 0., 0., 0., 0.],\n",
       "        [0., 0., 0., 0., 0., 0.],\n",
       "        [0., 0., 0., 0., 0., 0.],\n",
       "        [0., 0., 0., 0., 0., 0.]],\n",
       "\n",
       "       [[0., 0., 0., 0., 0., 0.],\n",
       "        [0., 0., 0., 0., 0., 0.],\n",
       "        [4., 0., 0., 0., 0., 0.],\n",
       "        [0., 0., 0., 0., 0., 0.],\n",
       "        [0., 0., 0., 0., 0., 0.],\n",
       "        [0., 0., 0., 0., 0., 0.],\n",
       "        [0., 0., 0., 0., 0., 0.],\n",
       "        [0., 0., 0., 0., 0., 0.]],\n",
       "\n",
       "       [[0., 0., 0., 0., 0., 0.],\n",
       "        [0., 0., 0., 0., 0., 0.],\n",
       "        [0., 0., 0., 0., 0., 0.],\n",
       "        [1., 5., 0., 0., 0., 0.],\n",
       "        [0., 3., 0., 0., 0., 0.],\n",
       "        [0., 0., 0., 0., 0., 0.],\n",
       "        [0., 0., 0., 0., 0., 0.],\n",
       "        [0., 0., 0., 0., 0., 0.]],\n",
       "\n",
       "       [[0., 0., 0., 0., 0., 0.],\n",
       "        [0., 0., 0., 0., 0., 0.],\n",
       "        [0., 0., 0., 0., 0., 0.],\n",
       "        [0., 0., 0., 0., 0., 0.],\n",
       "        [0., 0., 0., 0., 0., 0.],\n",
       "        [0., 0., 2., 0., 0., 0.],\n",
       "        [0., 0., 2., 0., 0., 0.],\n",
       "        [0., 0., 0., 0., 0., 0.]],\n",
       "\n",
       "       [[0., 0., 0., 0., 0., 0.],\n",
       "        [0., 0., 0., 0., 0., 0.],\n",
       "        [0., 0., 0., 0., 0., 0.],\n",
       "        [0., 0., 0., 0., 0., 0.],\n",
       "        [0., 0., 0., 0., 0., 0.],\n",
       "        [0., 0., 0., 0., 0., 0.],\n",
       "        [0., 0., 0., 0., 0., 0.],\n",
       "        [0., 0., 2., 0., 0., 0.]],\n",
       "\n",
       "       [[0., 0., 0., 0., 0., 0.],\n",
       "        [0., 0., 0., 0., 0., 0.],\n",
       "        [0., 0., 0., 0., 0., 0.],\n",
       "        [0., 0., 0., 0., 0., 0.],\n",
       "        [0., 0., 0., 0., 0., 0.],\n",
       "        [0., 0., 0., 0., 0., 0.],\n",
       "        [0., 0., 0., 0., 0., 0.],\n",
       "        [0., 0., 0., 0., 0., 0.]],\n",
       "\n",
       "       [[0., 0., 0., 0., 0., 0.],\n",
       "        [0., 0., 0., 0., 0., 0.],\n",
       "        [0., 0., 0., 0., 0., 0.],\n",
       "        [0., 0., 0., 0., 0., 0.],\n",
       "        [0., 0., 0., 0., 0., 0.],\n",
       "        [0., 0., 0., 0., 0., 0.],\n",
       "        [0., 0., 0., 0., 0., 0.],\n",
       "        [0., 0., 0., 0., 0., 0.]],\n",
       "\n",
       "       [[0., 0., 0., 0., 0., 0.],\n",
       "        [0., 0., 0., 0., 0., 0.],\n",
       "        [0., 0., 0., 0., 0., 0.],\n",
       "        [0., 0., 0., 0., 0., 0.],\n",
       "        [0., 0., 0., 0., 0., 0.],\n",
       "        [0., 0., 0., 0., 0., 0.],\n",
       "        [0., 0., 0., 0., 0., 0.],\n",
       "        [0., 0., 0., 0., 0., 0.]]])"
      ]
     },
     "execution_count": 121,
     "metadata": {},
     "output_type": "execute_result"
    }
   ],
   "source": [
    "Veh"
   ]
  },
  {
   "cell_type": "code",
   "execution_count": 75,
   "metadata": {},
   "outputs": [],
   "source": [
    "for t in range(1,T):\n",
    "    for k in range(len(K)):\n",
    "        VehDisp[k,t] = VehDisp[k,t-1] \\\n",
    "                    + sum(Veh[j,k,t-1] for j in range(len(K))) \\\n",
    "                    - sum(Veh[k,j,t-1] for j in range(len(K)))"
   ]
  },
  {
   "cell_type": "code",
   "execution_count": 76,
   "metadata": {},
   "outputs": [
    {
     "data": {
      "text/plain": [
       "array([[10.,  5.,  5.,  5.,  5.,  5.],\n",
       "       [10.,  6.,  6.,  6.,  6.,  6.],\n",
       "       [ 0.,  9.,  0.,  0.,  0.,  0.],\n",
       "       [ 0.,  0.,  4.,  2.,  2.,  2.],\n",
       "       [ 0.,  0.,  5.,  1.,  1.,  1.],\n",
       "       [ 0.,  0.,  0.,  2.,  2.,  2.],\n",
       "       [ 0.,  0.,  0.,  2.,  2.,  2.],\n",
       "       [ 0.,  0.,  0.,  2.,  2.,  2.]])"
      ]
     },
     "execution_count": 76,
     "metadata": {},
     "output_type": "execute_result"
    }
   ],
   "source": [
    "VehDisp"
   ]
  }
 ],
 "metadata": {
  "kernelspec": {
   "display_name": "Python 3",
   "language": "python",
   "name": "python3"
  },
  "language_info": {
   "codemirror_mode": {
    "name": "ipython",
    "version": 3
   },
   "file_extension": ".py",
   "mimetype": "text/x-python",
   "name": "python",
   "nbconvert_exporter": "python",
   "pygments_lexer": "ipython3",
   "version": "3.6.3"
  }
 },
 "nbformat": 4,
 "nbformat_minor": 2
}
