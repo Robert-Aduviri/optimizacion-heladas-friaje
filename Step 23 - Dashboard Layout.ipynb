{
 "cells": [
  {
   "cell_type": "code",
   "execution_count": 40,
   "metadata": {},
   "outputs": [
    {
     "name": "stdout",
     "output_type": "stream",
     "text": [
      "The autoreload extension is already loaded. To reload it, use:\n",
      "  %reload_ext autoreload\n"
     ]
    }
   ],
   "source": [
    "%load_ext autoreload\n",
    "%autoreload 2\n",
    "%matplotlib inline\n",
    "%config InlineBackend.figure_format = 'retina'\n",
    "import seaborn as sns\n",
    "import matplotlib.pyplot as plt\n",
    "sns.set()"
   ]
  },
  {
   "cell_type": "code",
   "execution_count": 58,
   "metadata": {},
   "outputs": [],
   "source": [
    "import numpy as np"
   ]
  },
  {
   "cell_type": "code",
   "execution_count": 134,
   "metadata": {},
   "outputs": [],
   "source": [
    "from multiproduct_dashboard import read_dataset, export_dataset"
   ]
  },
  {
   "cell_type": "code",
   "execution_count": 131,
   "metadata": {},
   "outputs": [],
   "source": [
    "d2 = read_dataset('test.txt')"
   ]
  },
  {
   "cell_type": "code",
   "execution_count": 89,
   "metadata": {},
   "outputs": [],
   "source": [
    "export_dataset(dataset, 'test.txt')"
   ]
  },
  {
   "cell_type": "code",
   "execution_count": 41,
   "metadata": {},
   "outputs": [
    {
     "data": {
      "text/plain": [
       "Dataset(nodes=[2, 3, 2, 8], supplies=[[230, 170, 100], [210, 190, 100], [150, 250, 100]], demands=[[50, 50, 60, 40, 40, 90, 30, 140, 0], [50, 60, 50, 100, 20, 50, 40, 130, 0], [50, 40, 90, 40, 60, 80, 30, 110, 0]], costs=[array([[963, 810, 919],\n",
       "       [588, 739, 650]]), array([[437, 971],\n",
       "       [740, 878],\n",
       "       [572, 250]]), array([[514, 397, 710, 362, 863, 243, 445, 723],\n",
       "       [671, 980, 101, 996, 403, 353, 751, 552]])], capacities=[[590, 610], [489, 515, 665], [719, 936], [150, 150, 200, 180, 120, 220, 100, 380]])"
      ]
     },
     "execution_count": 41,
     "metadata": {},
     "output_type": "execute_result"
    }
   ],
   "source": [
    "dataset"
   ]
  },
  {
   "cell_type": "code",
   "execution_count": 4,
   "metadata": {},
   "outputs": [],
   "source": [
    "from multiproduct import generate_dataset"
   ]
  },
  {
   "cell_type": "code",
   "execution_count": 110,
   "metadata": {},
   "outputs": [
    {
     "data": {
      "text/plain": [
       "array([[230, 170, 100],\n",
       "       [210, 190, 100],\n",
       "       [150, 250, 100]])"
      ]
     },
     "execution_count": 110,
     "metadata": {},
     "output_type": "execute_result"
    }
   ],
   "source": [
    "np.array(dataset.supplies)"
   ]
  },
  {
   "cell_type": "code",
   "execution_count": 117,
   "metadata": {},
   "outputs": [
    {
     "data": {
      "text/plain": [
       "array([500, 500, 500])"
      ]
     },
     "execution_count": 117,
     "metadata": {},
     "output_type": "execute_result"
    }
   ],
   "source": [
    "np.sum(dataset.supplies, 1)"
   ]
  },
  {
   "cell_type": "code",
   "execution_count": 116,
   "metadata": {},
   "outputs": [
    {
     "data": {
      "text/plain": [
       "[[230, 170, 100], [210, 190, 100], [150, 250, 100]]"
      ]
     },
     "execution_count": 116,
     "metadata": {},
     "output_type": "execute_result"
    }
   ],
   "source": [
    "supplies"
   ]
  },
  {
   "cell_type": "code",
   "execution_count": 115,
   "metadata": {},
   "outputs": [],
   "source": [
    "n_nodes = 15\n",
    "n_levels = 4\n",
    "n_items = 3\n",
    "\n",
    "nodes, supplies, demands, costs, capacities = generate_dataset(\n",
    "            n_nodes, n_levels, total_supplies=[400]*n_items, \n",
    "            total_demands=[500]*n_items, transp_costs=(100,1000), \n",
    "            random_state=42)        "
   ]
  },
  {
   "cell_type": "code",
   "execution_count": 90,
   "metadata": {},
   "outputs": [],
   "source": [
    "# %config InlineBackend.close_figures=True\n",
    "from multiproduct_dashboard import run_multiobjective_GA\n",
    "# plt.ion()"
   ]
  },
  {
   "cell_type": "code",
   "execution_count": 23,
   "metadata": {},
   "outputs": [],
   "source": [
    "from multiproduct_dashboard import run_multiobjective_GA\n",
    "import ipywidgets as widgets"
   ]
  },
  {
   "cell_type": "code",
   "execution_count": 8,
   "metadata": {},
   "outputs": [],
   "source": [
    "vbox_layout = widgets.Layout(display='flex',\n",
    "                    flex_flow='column',\n",
    "                    align_items='center',\n",
    "                    justify_content='space-around',\n",
    "                    width='100%',\n",
    "                    max_width='1000px',\n",
    "                    margin='0 auto',\n",
    "                    border='solid')"
   ]
  },
  {
   "cell_type": "code",
   "execution_count": 9,
   "metadata": {},
   "outputs": [],
   "source": [
    "import os\n",
    "import time\n",
    "from functools import partial\n",
    "from collections import namedtuple"
   ]
  },
  {
   "cell_type": "code",
   "execution_count": 32,
   "metadata": {},
   "outputs": [],
   "source": [
    "Dataset = namedtuple('Dataset', ['nodes', 'supplies', 'demands', 'costs', 'capacities'])\n",
    "dataset = None\n",
    "population = None"
   ]
  },
  {
   "cell_type": "code",
   "execution_count": 25,
   "metadata": {},
   "outputs": [],
   "source": [
    "def gen_dataset(e, n_nodes, n_levels, n_items):\n",
    "    global dataset\n",
    "    nodes, supplies, demands, costs, capacities = generate_dataset(\n",
    "            n_nodes, n_levels, total_supplies=[400]*n_items, \n",
    "            total_demands=[500]*n_items, transp_costs=(100,1000), \n",
    "            random_state=42)   \n",
    "    dataset = Dataset(nodes, supplies, demands, costs, capacities)\n",
    "    generate_dataset_btn.description = 'Generated dataset!'\n",
    "    time.sleep(0.8)\n",
    "    generate_dataset_btn.description = 'Generate dataset'"
   ]
  },
  {
   "cell_type": "code",
   "execution_count": 26,
   "metadata": {},
   "outputs": [],
   "source": [
    "def load_dataset(e):\n",
    "    pass"
   ]
  },
  {
   "cell_type": "code",
   "execution_count": 27,
   "metadata": {},
   "outputs": [],
   "source": [
    "def run_genetic_algorithm(e, pop_size, n_gen, early_stopping_rounds):\n",
    "    global dataset\n",
    "    global population\n",
    "    pop, hof, log, toolbox = run_multiobjective_GA(dataset.nodes, \n",
    "                            dataset.supplies, dataset.demands,\n",
    "                            dataset.costs, dataset.capacities, \n",
    "                            pop_size=pop_size, n_generations=n_gen,\n",
    "                            print_log=False, plot_log=True, \n",
    "                            early_stopping_rounds=early_stopping_rounds,\n",
    "                            plot_pop=True, plot_fairness=True,\n",
    "                            log_output=log_output, pop_output=pop_output,\n",
    "                            fairness_output=fairness_output)\n",
    "    "
   ]
  },
  {
   "cell_type": "code",
   "execution_count": 28,
   "metadata": {},
   "outputs": [],
   "source": [
    "\n",
    "### MENU\n",
    "\n",
    "space = widgets.Box(layout=widgets.Layout(width='80px'))\n",
    "\n",
    "#### GENERATE DATASET\n",
    "\n",
    "n_nodes_input = widgets.IntSlider(15, 5, 30, 1, description='# Nodes')\n",
    "n_levels_input = widgets.IntSlider(4, 3, 8, 1, description='# Levels')\n",
    "n_items_input = widgets.IntSlider(3, 1, 7, 1, description='# Items')\n",
    "generate_dataset_btn = widgets.Button(description='Generate dataset')\n",
    "\n",
    "aux_box1 = widgets.HBox([n_nodes_input, space, n_levels_input])\n",
    "aux_box2 = widgets.HBox([n_items_input, space, generate_dataset_btn])\n",
    "\n",
    "generate_dataset_box = widgets.VBox([aux_box1, aux_box2])\n",
    "\n",
    "generate_dataset_btn.on_click(partial(gen_dataset, \n",
    "                                      n_nodes=n_nodes_input.value,\n",
    "                                      n_levels=n_levels_input.value,\n",
    "                                      n_items=n_items_input.value))\n",
    "\n",
    "#### LOAD DATASET\n",
    "\n",
    "datasets = {file[:-4]: file \\\n",
    "                   for file in sorted(os.listdir('datasets/evaluation')) \\\n",
    "                   if file.endswith('.txt')}\n",
    "dataset_dropdown = widgets.Dropdown(\n",
    "    options = datasets,\n",
    "    description='Dataset',\n",
    "    value=datasets[sorted(list(datasets))[0]]\n",
    ")\n",
    "\n",
    "load_dataset_btn = widgets.Button(description='Load Dataset')\n",
    "load_dataset_box = widgets.HBox([dataset_dropdown, space, load_dataset_btn])\n",
    "\n",
    "load_dataset_btn.on_click(load_dataset)\n",
    "\n",
    "### GENETIC ALGORITHM\n",
    "\n",
    "population_size_input = widgets.IntSlider(100, 50, 300, 10, description='Population size',\n",
    "                          style={'description_width': 'initial'})\n",
    "n_generations_input = widgets.IntSlider(50, 1, 300, 1, description='# Generations',\n",
    "                          style={'description_width': 'initial'})\n",
    "early_stopping_rounds_input = widgets.IntSlider(10, 1, 50, 1, description='Early stopping rounds',\n",
    "                          style={'description_width': 'initial'})\n",
    "run_genetic_algorithm_btn = widgets.Button(description='Run Genetic Algorithm',\n",
    "                                      style={'description_width': 'initial'},\n",
    "                                      layout=widgets.Layout(width='20%'))\n",
    "export_ga_solution_btn = widgets.Button(description='Export solutions')\n",
    "\n",
    "aux_box3 = widgets.HBox([population_size_input, n_generations_input, early_stopping_rounds_input])\n",
    "aux_box4 = widgets.HBox([run_genetic_algorithm_btn, space, export_ga_solution_btn])\n",
    "\n",
    "run_genetic_algorithm_btn.on_click(partial(run_genetic_algorithm,\n",
    "                                           pop_size=population_size_input.value,\n",
    "                                           n_gen=n_generations_input.value,\n",
    "                                           early_stopping_rounds=early_stopping_rounds_input.value))\n",
    "\n",
    "#### PLOTS\n",
    "\n",
    "log_output = widgets.Output() \n",
    "pop_output = widgets.Output()\n",
    "fairness_output = widgets.Output()\n",
    "\n",
    "plots_hbox_layout = widgets.Layout(display='flex', flex_flow='row',\n",
    "                    align_items='center', justify_content='space-around',\n",
    "                    width='100%', max_width='800px', margin='0 auto')\n",
    "\n",
    "plots_vbox_layout = widgets.Layout(display='flex', flex_flow='column',\n",
    "                    align_items='center', justify_content='space-around',\n",
    "                    width='100%', max_width='800px', margin='0 auto')\n",
    "\n",
    "pop_fairness_box = widgets.HBox([pop_output, fairness_output], layout=plots_hbox_layout)\n",
    "plots_box = widgets.VBox([log_output, pop_fairness_box], layout=plots_vbox_layout)\n",
    "\n",
    "ga_tab = widgets.VBox([aux_box3, aux_box4, plots_box], layout=widgets.Layout(width='900px'))\n",
    "\n",
    "### SOLVER\n",
    "\n",
    "solver_desc = widgets.Text(description='Solver')\n",
    "solver_tab = widgets.VBox([solver_desc], layout=widgets.Layout(width='900px'))\n",
    "\n",
    "## DASHBOARD\n",
    "\n",
    "menu = widgets.VBox([generate_dataset_box, load_dataset_box])\n",
    "tabs = widgets.Tab([ga_tab, solver_tab])\n",
    "tabs.set_title(0, 'Genetic Algorithm')\n",
    "tabs.set_title(1, 'Solver')\n",
    "dashboard = widgets.VBox([menu,\n",
    "                          tabs], layout=vbox_layout)"
   ]
  },
  {
   "cell_type": "code",
   "execution_count": 29,
   "metadata": {},
   "outputs": [
    {
     "data": {
      "application/vnd.jupyter.widget-view+json": {
       "model_id": "5628937f308942f19d367f7470a92608",
       "version_major": 2,
       "version_minor": 0
      },
      "text/html": [
       "<p>Failed to display Jupyter Widget of type <code>VBox</code>.</p>\n",
       "<p>\n",
       "  If you're reading this message in the Jupyter Notebook or JupyterLab Notebook, it may mean\n",
       "  that the widgets JavaScript is still loading. If this message persists, it\n",
       "  likely means that the widgets JavaScript library is either not installed or\n",
       "  not enabled. See the <a href=\"https://ipywidgets.readthedocs.io/en/stable/user_install.html\">Jupyter\n",
       "  Widgets Documentation</a> for setup instructions.\n",
       "</p>\n",
       "<p>\n",
       "  If you're reading this message in another frontend (for example, a static\n",
       "  rendering on GitHub or <a href=\"https://nbviewer.jupyter.org/\">NBViewer</a>),\n",
       "  it may mean that your frontend doesn't currently support widgets.\n",
       "</p>\n"
      ],
      "text/plain": [
       "VBox(children=(VBox(children=(VBox(children=(HBox(children=(IntSlider(value=15, description='# Nodes', max=30, min=5), Box(layout=Layout(width='80px')), IntSlider(value=4, description='# Levels', max=8, min=3))), HBox(children=(IntSlider(value=3, description='# Items', max=7, min=1), Box(layout=Layout(width='80px')), Button(description='Generate dataset', style=ButtonStyle()))))), HBox(children=(Dropdown(description='Dataset', options={'test': 'test.txt'}, value='test.txt'), Box(layout=Layout(width='80px')), Button(description='Load Dataset', style=ButtonStyle()))))), Tab(children=(VBox(children=(HBox(children=(IntSlider(value=100, description='Population size', max=300, min=50, step=10, style=SliderStyle(description_width='initial')), IntSlider(value=50, description='# Generations', max=300, min=1, style=SliderStyle(description_width='initial')), IntSlider(value=10, description='Early stopping rounds', max=50, min=1, style=SliderStyle(description_width='initial')))), HBox(children=(Button(description='Run Genetic Algorithm', layout=Layout(width='20%'), style=ButtonStyle()), Box(layout=Layout(width='80px')), Button(description='Export solution', style=ButtonStyle()))), VBox(children=(Output(), HBox(children=(Output(), Output()), layout=Layout(align_items='center', display='flex', flex_flow='row', justify_content='space-around', margin='0 auto', max_width='800px', width='100%'))), layout=Layout(align_items='center', display='flex', flex_flow='column', justify_content='space-around', margin='0 auto', max_width='800px', width='100%'))), layout=Layout(width='900px')), VBox(children=(Text(value='', description='Solver'),), layout=Layout(width='900px'))), _titles={'0': 'Genetic Algorithm', '1': 'Solver'})), layout=Layout(align_items='center', border='solid', display='flex', flex_flow='column', justify_content='space-around', margin='0 auto', max_width='1000px', width='100%'))"
      ]
     },
     "metadata": {},
     "output_type": "display_data"
    }
   ],
   "source": [
    "dashboard"
   ]
  },
  {
   "cell_type": "code",
   "execution_count": 36,
   "metadata": {},
   "outputs": [
    {
     "data": {
      "text/plain": [
       "Dataset(nodes=[2, 3, 2, 8], supplies=[[230, 170, 100], [210, 190, 100], [150, 250, 100]], demands=[[50, 50, 60, 40, 40, 90, 30, 140, 0], [50, 60, 50, 100, 20, 50, 40, 130, 0], [50, 40, 90, 40, 60, 80, 30, 110, 0]], costs=[array([[963, 810, 919],\n",
       "       [588, 739, 650]]), array([[437, 971],\n",
       "       [740, 878],\n",
       "       [572, 250]]), array([[514, 397, 710, 362, 863, 243, 445, 723],\n",
       "       [671, 980, 101, 996, 403, 353, 751, 552]])], capacities=[[590, 610], [489, 515, 665], [719, 936], [150, 150, 200, 180, 120, 220, 100, 380]])"
      ]
     },
     "execution_count": 36,
     "metadata": {},
     "output_type": "execute_result"
    }
   ],
   "source": [
    "dataset"
   ]
  },
  {
   "cell_type": "code",
   "execution_count": null,
   "metadata": {},
   "outputs": [],
   "source": []
  },
  {
   "cell_type": "code",
   "execution_count": 37,
   "metadata": {},
   "outputs": [
    {
     "data": {
      "text/plain": [
       "[2, 3, 2, 8]"
      ]
     },
     "execution_count": 37,
     "metadata": {},
     "output_type": "execute_result"
    }
   ],
   "source": [
    "dataset.nodes"
   ]
  },
  {
   "cell_type": "code",
   "execution_count": 39,
   "metadata": {},
   "outputs": [
    {
     "data": {
      "text/plain": [
       "[[230, 170, 100], [210, 190, 100], [150, 250, 100]]"
      ]
     },
     "execution_count": 39,
     "metadata": {},
     "output_type": "execute_result"
    }
   ],
   "source": [
    "dataset.supplies"
   ]
  }
 ],
 "metadata": {
  "kernelspec": {
   "display_name": "Python 3",
   "language": "python",
   "name": "python3"
  },
  "language_info": {
   "codemirror_mode": {
    "name": "ipython",
    "version": 3
   },
   "file_extension": ".py",
   "mimetype": "text/x-python",
   "name": "python",
   "nbconvert_exporter": "python",
   "pygments_lexer": "ipython3",
   "version": "3.6.4"
  }
 },
 "nbformat": 4,
 "nbformat_minor": 2
}
