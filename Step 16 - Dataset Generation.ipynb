{
 "cells": [
  {
   "cell_type": "code",
   "execution_count": 1,
   "metadata": {},
   "outputs": [],
   "source": [
    "%load_ext autoreload\n",
    "%autoreload 2\n",
    "%matplotlib inline\n",
    "%config InlineBackend.figure_format = 'retina'\n",
    "import numpy as np\n",
    "import pandas as pd\n",
    "import matplotlib.pyplot as plt\n",
    "import seaborn as sns\n",
    "sns.set()"
   ]
  },
  {
   "cell_type": "code",
   "execution_count": 2,
   "metadata": {},
   "outputs": [],
   "source": [
    "from functools import partial"
   ]
  },
  {
   "cell_type": "code",
   "execution_count": 59,
   "metadata": {},
   "outputs": [],
   "source": [
    "def random_partition(n, k, rand_generator):\n",
    "    ''' Generate k values that sum to n '''\n",
    "    p = []\n",
    "    for i in range(k):\n",
    "        v = rand_generator()\n",
    "        p.append(min(n, v) if i < k-1 else n)\n",
    "        n -= p[-1]\n",
    "    return p\n",
    "        \n",
    "def generate_n_nodes(nodes, levels):    \n",
    "#     n_nodes = [nodes // levels] * (levels - 1) + \\\n",
    "#               [nodes % levels + nodes // levels]\n",
    "    offset = int(0.25 * (nodes // levels) + 1)\n",
    "    n_nodes = random_partition(nodes, levels, \n",
    "                    partial(np.random.randint, low=max(1,nodes // levels - offset),\n",
    "                                              high=nodes // levels + offset))\n",
    "    assert sum(n_nodes) == nodes # partition\n",
    "    return n_nodes\n",
    "    \n",
    "def generate_supply_demand(total_items, nodes):\n",
    "    res = []\n",
    "    for total_item in total_items: \n",
    "        res.append(random_partition(\n",
    "                total_item, nodes, \n",
    "                partial(np.random.poisson, lam=total_item // nodes)))\n",
    "        assert sum(res[-1]) == total_item # partition\n",
    "    return res\n",
    "    \n",
    "def generate_dataset(nodes, levels, total_supplies, total_demands, \n",
    "                     transp_costs, random_state=None):\n",
    "    if random_state:\n",
    "        np.random.seed(random_state)\n",
    "        \n",
    "    # Generate number of nodes per level (n_levels)\n",
    "    n_nodes = generate_n_nodes(nodes, levels)\n",
    "    \n",
    "    # Generate supplies for each item (n_items, n_nodes)\n",
    "    supplies = generate_supply_demand(total_supplies, n_nodes[0])\n",
    "    \n",
    "    # Generate demands for each item (n_items, n_nodes)\n",
    "    demands = generate_supply_demand(total_demands, n_nodes[-1])\n",
    "    \n",
    "    # Generate costs (n_levels-1, n_nodes[i], n_nodes[i+1])\n",
    "    costs = [np.random.randint(*transp_costs, (n_nodes[i], n_nodes[i+1])) \\\n",
    "                for i in range(levels-1)]\n",
    "    \n",
    "    # Generate capacities (n_levels, n_nodes[i])\n",
    "    max_flow = max(sum(total_supplies), sum(total_demands))\n",
    "    min_flow = min(sum(total_supplies), sum(total_demands))\n",
    "    capacities = [list(np.sum(supplies, axis=0))] + \\\n",
    "                 [random_partition(max_flow + np.random.poisson(int(0.1 * max_flow)), n, \n",
    "                     partial(np.random.poisson, lam=max_flow // n)) \\\n",
    "                     for n in n_nodes[1:-1]] + \\\n",
    "                 [list(np.sum(demands, axis=0))]\n",
    "    for cap in capacities:\n",
    "        assert min_flow <= sum(cap)\n",
    "    \n",
    "    dummy_supplies = [max(0, d - s) for s,d in zip(total_supplies, total_demands)]\n",
    "    dummy_demands = [max(0, s - d) for s,d in zip(total_supplies, total_demands)]\n",
    "    \n",
    "    # Supply-demand + dummies (supply-demand) (n_items, n_nodes+1)\n",
    "    supplies = [sup + [dum] for sup,dum in zip(supplies, dummy_supplies)]\n",
    "    demands = [dem + [dum] for dem,dum in zip(demands, dummy_demands)]\n",
    "\n",
    "    return n_nodes, supplies, demands, costs, capacities"
   ]
  },
  {
   "cell_type": "code",
   "execution_count": 60,
   "metadata": {},
   "outputs": [],
   "source": [
    "n_nodes, supplies, demands, costs, capacities = generate_dataset(\n",
    "                nodes=10, levels=4, total_supplies=[25,30], \n",
    "                total_demands=[28,25], transp_costs=(10,40), random_state=42)"
   ]
  },
  {
   "cell_type": "code",
   "execution_count": 61,
   "metadata": {},
   "outputs": [
    {
     "data": {
      "text/plain": [
       "[1, 2, 1, 6]"
      ]
     },
     "execution_count": 61,
     "metadata": {},
     "output_type": "execute_result"
    }
   ],
   "source": [
    "n_nodes"
   ]
  },
  {
   "cell_type": "code",
   "execution_count": 62,
   "metadata": {},
   "outputs": [
    {
     "data": {
      "text/plain": [
       "[[25, 3], [30, 0]]"
      ]
     },
     "execution_count": 62,
     "metadata": {},
     "output_type": "execute_result"
    }
   ],
   "source": [
    "supplies"
   ]
  },
  {
   "cell_type": "code",
   "execution_count": 63,
   "metadata": {},
   "outputs": [
    {
     "data": {
      "text/plain": [
       "[[4, 4, 4, 2, 5, 9, 0], [5, 3, 5, 7, 1, 4, 5]]"
      ]
     },
     "execution_count": 63,
     "metadata": {},
     "output_type": "execute_result"
    }
   ],
   "source": [
    "demands"
   ]
  },
  {
   "cell_type": "code",
   "execution_count": 64,
   "metadata": {},
   "outputs": [
    {
     "data": {
      "text/plain": [
       "[[55], [32, 26], [57], [9, 7, 9, 9, 6, 13]]"
      ]
     },
     "execution_count": 64,
     "metadata": {},
     "output_type": "execute_result"
    }
   ],
   "source": [
    "capacities"
   ]
  },
  {
   "cell_type": "code",
   "execution_count": 65,
   "metadata": {},
   "outputs": [
    {
     "data": {
      "text/plain": [
       "[(1, 2), (2, 1), (1, 6)]"
      ]
     },
     "execution_count": 65,
     "metadata": {},
     "output_type": "execute_result"
    }
   ],
   "source": [
    "[cost.shape for cost in costs]"
   ]
  },
  {
   "cell_type": "code",
   "execution_count": 66,
   "metadata": {},
   "outputs": [
    {
     "data": {
      "text/plain": [
       "[1, 2, 1, 6]"
      ]
     },
     "execution_count": 66,
     "metadata": {},
     "output_type": "execute_result"
    }
   ],
   "source": [
    "n_nodes"
   ]
  },
  {
   "cell_type": "code",
   "execution_count": 67,
   "metadata": {},
   "outputs": [
    {
     "data": {
      "text/plain": [
       "'T11 T12 T21'"
      ]
     },
     "execution_count": 67,
     "metadata": {},
     "output_type": "execute_result"
    }
   ],
   "source": [
    "' '.join([f'T{i+1}{j+1}' for i in range(len(n_nodes[1:-1])) \\\n",
    "                        for j in range(n_nodes[1:-1][i])])"
   ]
  },
  {
   "cell_type": "code",
   "execution_count": 68,
   "metadata": {},
   "outputs": [],
   "source": [
    "supply_trans = ' '.join([f'(S{j+1},T1{k+1})' \\\n",
    "                         for j in range(n_nodes[0]) \\\n",
    "                         for k in range(n_nodes[1])])\n",
    "trans_trans = ' '.join([f'(T{i+1}{j+1},T{i+2}{k+1})' \\\n",
    "                         for i in range(len(n_nodes[1:-1])-1) \\\n",
    "                         for j in range(n_nodes[1:-1][i]) \\\n",
    "                         for k in range(n_nodes[1:-1][i+1])])\n",
    "trans_demand = ' '.join([f'(T{len(n_nodes[1:-1])}{j+1},D{k+1})' \\\n",
    "                         for j in range(n_nodes[-2]) \\\n",
    "                         for k in range(n_nodes[-1])])"
   ]
  },
  {
   "cell_type": "code",
   "execution_count": 69,
   "metadata": {},
   "outputs": [
    {
     "data": {
      "text/plain": [
       "'(S1,T11) (S1,T12)'"
      ]
     },
     "execution_count": 69,
     "metadata": {},
     "output_type": "execute_result"
    }
   ],
   "source": [
    "supply_trans"
   ]
  },
  {
   "cell_type": "code",
   "execution_count": 70,
   "metadata": {},
   "outputs": [
    {
     "data": {
      "text/plain": [
       "'(T21,D1) (T21,D2) (T21,D3) (T21,D4) (T21,D5) (T21,D6)'"
      ]
     },
     "execution_count": 70,
     "metadata": {},
     "output_type": "execute_result"
    }
   ],
   "source": [
    "trans_demand"
   ]
  },
  {
   "cell_type": "code",
   "execution_count": 71,
   "metadata": {},
   "outputs": [
    {
     "data": {
      "text/plain": [
       "'(T11,T21) (T12,T21)'"
      ]
     },
     "execution_count": 71,
     "metadata": {},
     "output_type": "execute_result"
    }
   ],
   "source": [
    "trans_trans"
   ]
  },
  {
   "cell_type": "code",
   "execution_count": 80,
   "metadata": {},
   "outputs": [],
   "source": [
    "def print_items(n_items, fout):\n",
    "    items = ' '.join([f'I{i+1}' for i in range(n_items)])\n",
    "    print(f'set I := {items};', file=fout)        \n",
    "    \n",
    "def print_nodes(n_nodes, fout):\n",
    "    supply = ' '.join([f'S{i+1}' for i in range(n_nodes[0])])\n",
    "    trans = ' '.join([f'T{i+1}{j+1}' for i in range(len(n_nodes[1:-1])) \\\n",
    "                                     for j in range(n_nodes[1:-1][i])])\n",
    "    demand = ' '.join([f'D{i+1}' for i in range(n_nodes[-1])])\n",
    "    print(f'set ST := {supply} {trans};', file=fout)\n",
    "    print(f'set D := {demand};', file=fout)\n",
    "    print(f'set DU := dummy_sup dummy_dem;\\n', file=fout)\n",
    "\n",
    "def print_edges(set_name, n_nodes, fout, dummies=False):\n",
    "    print(f'set {set_name} := ', file=fout)\n",
    "    supply_trans = ' '.join([f'(S{j+1},T1{k+1})' \\\n",
    "                             for j in range(n_nodes[0]) \\\n",
    "                             for k in range(n_nodes[1])])\n",
    "    trans_trans = ' '.join([f'(T{i+1}{j+1},T{i+2}{k+1})' \\\n",
    "                             for i in range(len(n_nodes[1:-1])-1) \\\n",
    "                             for j in range(n_nodes[1:-1][i]) \\\n",
    "                             for k in range(n_nodes[1:-1][i+1])])\n",
    "    trans_demand = ' '.join([f'(T{len(n_nodes[1:-1])}{j+1},D{k+1})' \\\n",
    "                             for j in range(n_nodes[-2]) \\\n",
    "                             for k in range(n_nodes[-1])])\n",
    "    print(f'   {supply_trans}', file=fout)\n",
    "    print(f'   {trans_trans}', file=fout)\n",
    "    print(f'   {trans_demand}', file=fout)\n",
    "    \n",
    "    if dummies:\n",
    "        dummy_supply = ' '.join(f'(S{j+1},dummy_dem)' \\\n",
    "                                 for j in range(n_nodes[0]))\n",
    "        dummy_demand = ' '.join(f'(dummy_sup,D{j+1})' \\\n",
    "                                 for j in range(n_nodes[-1]))\n",
    "        print(f'   {dummy_supply}', file=fout)\n",
    "        print(f'   {dummy_demand}', file=fout)\n",
    "        \n",
    "    print(';\\n', file=fout)\n",
    "    \n",
    "def print_transp_cost(n_nodes, costs, fout):\n",
    "    supply_trans = ' '.join([f'S{j+1} T1{k+1} {costs[0][j][k]}' \\\n",
    "                             for j in range(n_nodes[0]) \\\n",
    "                             for k in range(n_nodes[1])])\n",
    "    trans_trans = ' '.join([f'T{i+1}{j+1} T{i+2}{k+1} {costs[i+1][j][k]}' \\\n",
    "                             for i in range(len(n_nodes[1:-1])-1) \\\n",
    "                             for j in range(n_nodes[1:-1][i]) \\\n",
    "                             for k in range(n_nodes[1:-1][i+1])])\n",
    "    trans_demand = ' '.join([f'T{len(n_nodes[1:-1])}{j+1} D{k+1} {costs[-1][j][k]}' \\\n",
    "                             for j in range(n_nodes[-2]) \\\n",
    "                             for k in range(n_nodes[-1])])    \n",
    "    print(f'param transp_cost := {supply_trans} {trans_trans} {trans_demand};\\n', \n",
    "                             file=fout)\n",
    "    \n",
    "def print_supply_demand(n_nodes, supplies, demands, fout):\n",
    "    supply = ' '.join([f'S{i+1}' for i in range(n_nodes[0])])\n",
    "    trans = ' '.join([f'T{i+1}{j+1}' for i in range(len(n_nodes[1:-1])) \\\n",
    "                                     for j in range(n_nodes[1:-1][i])])\n",
    "    demand = ' '.join([f'D{i+1}' for i in range(n_nodes[-1])])\n",
    "    print(f'param supply_demand (tr): {supply} {trans} {demand} '\n",
    "           'dummy_sup dummy_dem := ', file=fout)\n",
    "    for i in range(len(supplies)):\n",
    "        supply_demand = ' '.join([str(x) for x in supplies[i][:-1] + \\\n",
    "                                 [0]*sum(n_nodes[1:-1]) + \\\n",
    "                                 [-x for x in demands[i][:-1]] + \\\n",
    "                                 [supplies[i][-1]] + [-demands[i][-1]]])\n",
    "        print(f'    I{i+1} {supply_demand}', file=fout)\n",
    "    print(';\\n', file=fout)\n",
    "    \n",
    "def print_capacities(n_nodes, capacities, fout):\n",
    "    supply = ' '.join([f'S{i+1} {capacities[0][i]}' \\\n",
    "                              for i in range(n_nodes[0])])\n",
    "    trans = ' '.join([f'T{i+1}{j+1} {capacities[i+1][j]}' \n",
    "                              for i in range(len(n_nodes[1:-1])) \\\n",
    "                              for j in range(n_nodes[1:-1][i])])\n",
    "    demand = ' '.join([f'D{i+1} {capacities[-1][i]}' \n",
    "                              for i in range(n_nodes[-1])])\n",
    "    print(f'param node_capacity := {supply} {trans} {demand};\\n', \n",
    "                              file=fout)\n",
    "    \n",
    "def generate_ampl(n_nodes, supplies, demands, costs, capacities, \n",
    "                  output_file='data/model_data.mod'):\n",
    "    with open('data/model.mod', 'r') as f_model, \\\n",
    "         open(output_file, 'w') as fout:\n",
    "        print(f_model.read(), file=fout)\n",
    "        print('data;', file=fout)\n",
    "        print_items(len(supplies), fout)\n",
    "        print_nodes(n_nodes, fout)        \n",
    "        print_edges('E', n_nodes, fout)\n",
    "        print_edges('EDU', n_nodes, fout, dummies=True)\n",
    "        print_transp_cost(n_nodes, costs, fout)\n",
    "        print_supply_demand(n_nodes, supplies, demands, fout)\n",
    "        print_capacities(n_nodes, capacities, fout)\n",
    "        "
   ]
  },
  {
   "cell_type": "code",
   "execution_count": 81,
   "metadata": {},
   "outputs": [
    {
     "data": {
      "text/plain": [
       "[[25, 3], [30, 0]]"
      ]
     },
     "execution_count": 81,
     "metadata": {},
     "output_type": "execute_result"
    }
   ],
   "source": [
    "supplies"
   ]
  },
  {
   "cell_type": "code",
   "execution_count": 82,
   "metadata": {},
   "outputs": [
    {
     "data": {
      "text/plain": [
       "[[55], [32, 26], [57], [9, 7, 9, 9, 6, 13]]"
      ]
     },
     "execution_count": 82,
     "metadata": {},
     "output_type": "execute_result"
    }
   ],
   "source": [
    "capacities"
   ]
  },
  {
   "cell_type": "code",
   "execution_count": 83,
   "metadata": {},
   "outputs": [
    {
     "data": {
      "text/plain": [
       "[[4, 4, 4, 2, 5, 9, 0], [5, 3, 5, 7, 1, 4, 5]]"
      ]
     },
     "execution_count": 83,
     "metadata": {},
     "output_type": "execute_result"
    }
   ],
   "source": [
    "demands"
   ]
  },
  {
   "cell_type": "code",
   "execution_count": 84,
   "metadata": {},
   "outputs": [],
   "source": [
    "generate_ampl(n_nodes, supplies, demands, costs, capacities)"
   ]
  },
  {
   "cell_type": "code",
   "execution_count": 85,
   "metadata": {},
   "outputs": [],
   "source": [
    "generate_ampl(n_nodes, supplies, demands, costs, capacities,\n",
    "              output_file='modelos/test.mod')"
   ]
  },
  {
   "cell_type": "markdown",
   "metadata": {},
   "source": [
    "## Test Library"
   ]
  },
  {
   "cell_type": "code",
   "execution_count": 96,
   "metadata": {},
   "outputs": [],
   "source": [
    "n_nodes, supplies, demands, costs, capacities = generate_dataset(\n",
    "                nodes=40, levels=5, total_supplies=[500,400,300], \n",
    "                total_demands=[400,600,400], transp_costs=(10,100), \n",
    "                random_state=42)"
   ]
  },
  {
   "cell_type": "code",
   "execution_count": 97,
   "metadata": {},
   "outputs": [],
   "source": [
    "generate_ampl(n_nodes, supplies, demands, costs, capacities,\n",
    "              output_file='modelos/test.mod')"
   ]
  },
  {
   "cell_type": "code",
   "execution_count": 91,
   "metadata": {},
   "outputs": [
    {
     "data": {
      "text/plain": [
       "[6, 7, 4, 6, 7]"
      ]
     },
     "execution_count": 91,
     "metadata": {},
     "output_type": "execute_result"
    }
   ],
   "source": [
    "n_nodes"
   ]
  },
  {
   "cell_type": "code",
   "execution_count": null,
   "metadata": {},
   "outputs": [],
   "source": []
  }
 ],
 "metadata": {
  "kernelspec": {
   "display_name": "Python 3",
   "language": "python",
   "name": "python3"
  },
  "language_info": {
   "codemirror_mode": {
    "name": "ipython",
    "version": 3
   },
   "file_extension": ".py",
   "mimetype": "text/x-python",
   "name": "python",
   "nbconvert_exporter": "python",
   "pygments_lexer": "ipython3",
   "version": "3.6.3"
  }
 },
 "nbformat": 4,
 "nbformat_minor": 2
}
