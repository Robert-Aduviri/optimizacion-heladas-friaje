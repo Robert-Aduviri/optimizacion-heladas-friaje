{
 "cells": [
  {
   "cell_type": "code",
   "execution_count": 1,
   "metadata": {},
   "outputs": [],
   "source": [
    "%load_ext autoreload\n",
    "%autoreload 2\n",
    "%matplotlib inline\n",
    "%config InlineBackend.figure_format = 'retina'\n",
    "import numpy as np\n",
    "import pandas as pd\n",
    "import matplotlib.pyplot as plt\n",
    "import seaborn as sns\n",
    "sns.set()"
   ]
  },
  {
   "cell_type": "code",
   "execution_count": 76,
   "metadata": {},
   "outputs": [],
   "source": [
    "def generate_dataset(nodes, levels, total_supplies, total_demands, \n",
    "                     transp_costs, capacities, random_state=None):\n",
    "    # number of nodes per level\n",
    "    n_nodes = [nodes // levels] * (levels - 1) + \\\n",
    "              [nodes % levels + nodes // levels]\n",
    "    assert sum(n_nodes) == nodes # partition\n",
    "    if random_state:\n",
    "        np.random.seed(random_state)\n",
    "    # supplies\n",
    "    supplies = []\n",
    "    for item_supply in total_supplies:\n",
    "        item_supplies = []\n",
    "        for i in range(n_nodes[0]):\n",
    "            supply = np.random.poisson(item_supply // n_nodes[0])\n",
    "            if i == n_nodes[0] - 1:\n",
    "                item_supplies.append(item_supply - sum(item_supplies))\n",
    "            else:\n",
    "                item_supplies.append(min(supply, item_supply - sum(item_supplies)))\n",
    "        supplies.append(item_supplies)\n",
    "        assert sum(item_supplies) == item_supply # partition\n",
    "    \n",
    "    demands = []\n",
    "#     supplies = [np.random.poisson(supply // n_nodes[0], n_nodes[0]) \\\n",
    "#                 for supply in total_supplies]\n",
    "#     demands = [np.random.poisson(demand // n_nodes[-1], n_nodes[-1]) \\\n",
    "#                 for demand in total_demands]\n",
    "    # K, I, transp_cost, supply_demand, node_capacity\n",
    "    return n_nodes, supplies, demands"
   ]
  },
  {
   "cell_type": "code",
   "execution_count": 77,
   "metadata": {},
   "outputs": [
    {
     "data": {
      "text/plain": [
       "([4, 4, 4, 4, 4], [[5, 5, 5, 5], [6, 7, 6, 11]], [])"
      ]
     },
     "execution_count": 77,
     "metadata": {},
     "output_type": "execute_result"
    }
   ],
   "source": [
    "generate_dataset(20, 5, [20,30], [30,20], None, None)"
   ]
  },
  {
   "cell_type": "code",
   "execution_count": 26,
   "metadata": {},
   "outputs": [
    {
     "data": {
      "text/plain": [
       "array([[ 88, 102,  95],\n",
       "       [104,  99, 112],\n",
       "       [ 81, 112, 109]])"
      ]
     },
     "execution_count": 26,
     "metadata": {},
     "output_type": "execute_result"
    }
   ],
   "source": [
    "np.random.poisson(100, (3,3))"
   ]
  },
  {
   "cell_type": "code",
   "execution_count": 20,
   "metadata": {},
   "outputs": [
    {
     "data": {
      "text/plain": [
       "array([[ 0.89238316,  0.5758449 ],\n",
       "       [-0.4546978 ,  0.96651393],\n",
       "       [ 0.86214971,  1.38867573]])"
      ]
     },
     "execution_count": 20,
     "metadata": {},
     "output_type": "execute_result"
    }
   ],
   "source": [
    "mean_length = 59 // 5\n",
    "np.random.randn(3,2) + mean_length"
   ]
  }
 ],
 "metadata": {
  "kernelspec": {
   "display_name": "Python 3",
   "language": "python",
   "name": "python3"
  },
  "language_info": {
   "codemirror_mode": {
    "name": "ipython",
    "version": 3
   },
   "file_extension": ".py",
   "mimetype": "text/x-python",
   "name": "python",
   "nbconvert_exporter": "python",
   "pygments_lexer": "ipython3",
   "version": "3.6.3"
  }
 },
 "nbformat": 4,
 "nbformat_minor": 2
}
