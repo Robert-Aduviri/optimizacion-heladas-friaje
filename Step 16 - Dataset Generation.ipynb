{
 "cells": [
  {
   "cell_type": "code",
   "execution_count": 3,
   "metadata": {},
   "outputs": [],
   "source": [
    "%load_ext autoreload\n",
    "%autoreload 2\n",
    "%matplotlib inline\n",
    "%config InlineBackend.figure_format = 'retina'\n",
    "import numpy as np\n",
    "import pandas as pd\n",
    "import matplotlib.pyplot as plt\n",
    "import seaborn as sns\n",
    "sns.set()"
   ]
  },
  {
   "cell_type": "code",
   "execution_count": 14,
   "metadata": {},
   "outputs": [],
   "source": [
    "from functools import partial"
   ]
  },
  {
   "cell_type": "code",
   "execution_count": 320,
   "metadata": {},
   "outputs": [],
   "source": [
    "def random_partition(n, k, rand_generator):\n",
    "    ''' Generate k values that sum to n '''\n",
    "    p = []\n",
    "    for i in range(k):\n",
    "        v = rand_generator()\n",
    "        p.append(min(n, v) if i < k-1 else n)\n",
    "        n -= p[-1]\n",
    "    return p\n",
    "        \n",
    "def generate_dataset(nodes, levels, total_supplies, total_demands, \n",
    "                     transp_costs, random_state=None):\n",
    "    # Generate number of nodes per level\n",
    "#     n_nodes = [nodes // levels] * (levels - 1) + \\\n",
    "#               [nodes % levels + nodes // levels]\n",
    "    offset = int(0.25 * (nodes // levels) + 1)\n",
    "    n_nodes = random_partition(nodes, levels, \n",
    "                    partial(np.random.randint, low=max(1,nodes // levels - offset),\n",
    "                                              high=nodes // levels + offset))\n",
    "    assert sum(n_nodes) == nodes # partition\n",
    "    if random_state:\n",
    "        np.random.seed(random_state)\n",
    "    \n",
    "    # Generate supplies for each item\n",
    "    supplies = []\n",
    "    for total_supply in total_supplies: \n",
    "        supplies.append(random_partition(\n",
    "                total_supply, n_nodes[0], \n",
    "                partial(np.random.poisson, lam=total_supply // n_nodes[0])))\n",
    "        assert sum(supplies[-1]) == total_supply # partition\n",
    "    \n",
    "    # Generate demands for each item\n",
    "    demands = []\n",
    "    for total_demand in total_demands:\n",
    "        demands.append(random_partition(\n",
    "                total_demand, n_nodes[-1],\n",
    "                partial(np.random.poisson, lam=total_demand // n_nodes[-1])))\n",
    "        assert sum(demands[-1]) == total_demand # partition\n",
    "        \n",
    "    # Generate costs\n",
    "    costs = [np.random.randint(*transp_costs, (n_nodes[i], n_nodes[i+1])) \\\n",
    "                for i in range(levels-1)]\n",
    "    \n",
    "    # Generate capacities\n",
    "    flow = max(sum(total_supplies), sum(total_demands))\n",
    "    capacities = [list(np.sum(supplies, axis=0))] + \\\n",
    "                 [random_partition(flow + np.random.poisson(int(0.1 * flow)), n, \n",
    "                     partial(np.random.poisson, lam=flow // n)) \\\n",
    "                     for n in n_nodes[1:-1]] + \\\n",
    "                 [list(np.sum(demands, axis=0))]\n",
    "    \n",
    "    dummy_supplies = [max(0, d - s) for s,d in zip(total_supplies, total_demands)]\n",
    "    dummy_demands = [max(0, s - d) for s,d in zip(total_supplies, total_demands)]\n",
    "    \n",
    "    # Supply-demand + dummies (supply-demand)\n",
    "    supplies = [sup + [dum] for sup,dum in zip(supplies, dummy_supplies)]\n",
    "    demands = [dem + [dum] for dem,dum in zip(demands, dummy_demands)]\n",
    "\n",
    "    return n_nodes, supplies, demands, costs, capacities"
   ]
  },
  {
   "cell_type": "code",
   "execution_count": 372,
   "metadata": {},
   "outputs": [],
   "source": [
    "n_nodes, supplies, demands, costs, capacities = generate_dataset(\n",
    "                nodes=10, levels=4, total_supplies=[25,30], \n",
    "                total_demands=[28,25], transp_costs=(10,40))"
   ]
  },
  {
   "cell_type": "code",
   "execution_count": 373,
   "metadata": {},
   "outputs": [
    {
     "data": {
      "text/plain": [
       "[2, 1, 2, 5]"
      ]
     },
     "execution_count": 373,
     "metadata": {},
     "output_type": "execute_result"
    }
   ],
   "source": [
    "n_nodes"
   ]
  },
  {
   "cell_type": "code",
   "execution_count": 374,
   "metadata": {},
   "outputs": [
    {
     "data": {
      "text/plain": [
       "[[14, 11, 3], [16, 14, 0]]"
      ]
     },
     "execution_count": 374,
     "metadata": {},
     "output_type": "execute_result"
    }
   ],
   "source": [
    "supplies"
   ]
  },
  {
   "cell_type": "code",
   "execution_count": 375,
   "metadata": {},
   "outputs": [
    {
     "data": {
      "text/plain": [
       "[[5, 4, 4, 3, 12, 0], [4, 6, 9, 5, 1, 5]]"
      ]
     },
     "execution_count": 375,
     "metadata": {},
     "output_type": "execute_result"
    }
   ],
   "source": [
    "demands"
   ]
  },
  {
   "cell_type": "code",
   "execution_count": 376,
   "metadata": {},
   "outputs": [
    {
     "data": {
      "text/plain": [
       "[[30, 25], [67], [17, 43], [9, 10, 13, 8, 13]]"
      ]
     },
     "execution_count": 376,
     "metadata": {},
     "output_type": "execute_result"
    }
   ],
   "source": [
    "capacities"
   ]
  },
  {
   "cell_type": "code",
   "execution_count": 377,
   "metadata": {},
   "outputs": [
    {
     "data": {
      "text/plain": [
       "[(2, 1), (1, 2), (2, 5)]"
      ]
     },
     "execution_count": 377,
     "metadata": {},
     "output_type": "execute_result"
    }
   ],
   "source": [
    "[cost.shape for cost in costs]"
   ]
  },
  {
   "cell_type": "code",
   "execution_count": 378,
   "metadata": {},
   "outputs": [
    {
     "data": {
      "text/plain": [
       "[2, 1, 2, 5]"
      ]
     },
     "execution_count": 378,
     "metadata": {},
     "output_type": "execute_result"
    }
   ],
   "source": [
    "n_nodes"
   ]
  },
  {
   "cell_type": "code",
   "execution_count": 379,
   "metadata": {},
   "outputs": [
    {
     "data": {
      "text/plain": [
       "'T11 T21 T22'"
      ]
     },
     "execution_count": 379,
     "metadata": {},
     "output_type": "execute_result"
    }
   ],
   "source": [
    "' '.join([f'T{i+1}{j+1}' for i in range(len(n_nodes[1:-1])) \\\n",
    "                        for j in range(n_nodes[1:-1][i])])"
   ]
  },
  {
   "cell_type": "code",
   "execution_count": 380,
   "metadata": {},
   "outputs": [],
   "source": [
    "supply_trans = ' '.join([f'(S{j+1},T1{k+1})' \\\n",
    "                         for j in range(n_nodes[0]) \\\n",
    "                         for k in range(n_nodes[1])])\n",
    "trans_trans = ' '.join([f'(T{i+1}{j+1},T{i+2}{k+1})' \\\n",
    "                         for i in range(len(n_nodes[1:-1])-1) \\\n",
    "                         for j in range(n_nodes[1:-1][i]) \\\n",
    "                         for k in range(n_nodes[1:-1][i+1])])\n",
    "trans_demand = ' '.join([f'(T{len(n_nodes[1:-1])}{j+1},D{k+1})' \\\n",
    "                         for j in range(n_nodes[-2]) \\\n",
    "                         for k in range(n_nodes[-1])])"
   ]
  },
  {
   "cell_type": "code",
   "execution_count": 381,
   "metadata": {},
   "outputs": [
    {
     "data": {
      "text/plain": [
       "'(S1,T11) (S2,T11)'"
      ]
     },
     "execution_count": 381,
     "metadata": {},
     "output_type": "execute_result"
    }
   ],
   "source": [
    "supply_trans"
   ]
  },
  {
   "cell_type": "code",
   "execution_count": 382,
   "metadata": {},
   "outputs": [
    {
     "data": {
      "text/plain": [
       "'(T21,D1) (T21,D2) (T21,D3) (T21,D4) (T21,D5) (T22,D1) (T22,D2) (T22,D3) (T22,D4) (T22,D5)'"
      ]
     },
     "execution_count": 382,
     "metadata": {},
     "output_type": "execute_result"
    }
   ],
   "source": [
    "trans_demand"
   ]
  },
  {
   "cell_type": "code",
   "execution_count": 383,
   "metadata": {},
   "outputs": [
    {
     "data": {
      "text/plain": [
       "'(T11,T21) (T11,T22)'"
      ]
     },
     "execution_count": 383,
     "metadata": {},
     "output_type": "execute_result"
    }
   ],
   "source": [
    "trans_trans"
   ]
  },
  {
   "cell_type": "code",
   "execution_count": 386,
   "metadata": {},
   "outputs": [],
   "source": [
    "def generate_ampl(n_nodes, supplies, demands, costs, capacities):\n",
    "    with open('data/model.mod', 'r') as f_model, \\\n",
    "         open('data/model_data.mod', 'w') as fout:\n",
    "        print(f_model.read(), file=fout)\n",
    "        print('data;', file=fout)\n",
    "        \n",
    "        # Nodes\n",
    "        items = ' '.join([f'I{i+1}' for i in range(len(supplies))])\n",
    "        print(f'set I := {items};', file=fout)\n",
    "        supply = ' '.join([f'S{i+1}' for i in range(n_nodes[0])])\n",
    "        trans = ' '.join([f'T{i+1}{j+1}' for i in range(len(n_nodes[1:-1])) \\\n",
    "                                         for j in range(n_nodes[1:-1][i])])\n",
    "        demand = ' '.join([f'D{i+1}' for i in range(n_nodes[-1])])\n",
    "        print(f'set ST := {supply} {trans};', file=fout)\n",
    "        print(f'set D := {demand};', file=fout)\n",
    "        print(f'set DU := dummy_sup dummy_dem;\\n', file=fout)\n",
    "        \n",
    "        # Edges\n",
    "        print(f'set E := ', file=fout)\n",
    "        supply_trans = ' '.join([f'(S{j+1},T1{k+1})' \\\n",
    "                                 for j in range(n_nodes[0]) \\\n",
    "                                 for k in range(n_nodes[1])])\n",
    "        trans_trans = ' '.join([f'(T{i+1}{j+1},T{i+2}{k+1})' \\\n",
    "                                 for i in range(len(n_nodes[1:-1])-1) \\\n",
    "                                 for j in range(n_nodes[1:-1][i]) \\\n",
    "                                 for k in range(n_nodes[1:-1][i+1])])\n",
    "        trans_demand = ' '.join([f'(T{len(n_nodes[1:-1])}{j+1},D{k+1})' \\\n",
    "                                 for j in range(n_nodes[-2]) \\\n",
    "                                 for k in range(n_nodes[-1])])\n",
    "        print(f'   {supply_trans}', file=fout)\n",
    "        print(f'   {trans_trans}', file=fout)\n",
    "        print(f'   {trans_demand};\\n', file=fout)\n",
    "        print(f'set EDU := ', file=fout)\n",
    "        supply_dummy = ' '.join(f'(S{j+1},dummy_dem)' \\\n",
    "                                 for j in range(n_nodes[0]))\n",
    "        dummy_demand = ' '.join(f'(dummy_sup,D{j+1})' \\\n",
    "                                 for j in range(n_nodes[-1]))\n",
    "        print(f'   {supply_trans}', file=fout)\n",
    "        print(f'   {supply_dummy}', file=fout)\n",
    "        print(f'   {trans_trans}', file=fout)\n",
    "        print(f'   {trans_demand}', file=fout)\n",
    "        print(f'   {dummy_demand};\\n', file=fout)\n",
    "        \n",
    "        # Params\n",
    "        print(f'param transp_cost := ', file=fout)\n",
    "        "
   ]
  },
  {
   "cell_type": "code",
   "execution_count": 387,
   "metadata": {},
   "outputs": [],
   "source": [
    "generate_ampl(n_nodes, supplies, demands, costs, capacities)"
   ]
  },
  {
   "cell_type": "code",
   "execution_count": null,
   "metadata": {},
   "outputs": [],
   "source": []
  }
 ],
 "metadata": {
  "kernelspec": {
   "display_name": "Python 3",
   "language": "python",
   "name": "python3"
  },
  "language_info": {
   "codemirror_mode": {
    "name": "ipython",
    "version": 3
   },
   "file_extension": ".py",
   "mimetype": "text/x-python",
   "name": "python",
   "nbconvert_exporter": "python",
   "pygments_lexer": "ipython3",
   "version": "3.6.3"
  }
 },
 "nbformat": 4,
 "nbformat_minor": 2
}
