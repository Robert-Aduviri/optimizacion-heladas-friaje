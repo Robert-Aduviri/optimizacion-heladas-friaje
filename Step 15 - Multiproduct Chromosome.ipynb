{
 "cells": [
  {
   "cell_type": "code",
   "execution_count": 1,
   "metadata": {},
   "outputs": [],
   "source": [
    "%load_ext autoreload\n",
    "%autoreload 2\n",
    "%matplotlib inline\n",
    "%config InlineBackend.figure_format = 'retina'\n",
    "import numpy as np\n",
    "import pandas as pd\n",
    "import matplotlib.pyplot as plt\n",
    "import seaborn as sns\n",
    "sns.set()"
   ]
  },
  {
   "cell_type": "code",
   "execution_count": 2,
   "metadata": {},
   "outputs": [],
   "source": [
    "from multiproduct import generate_dataset"
   ]
  },
  {
   "cell_type": "code",
   "execution_count": 3,
   "metadata": {},
   "outputs": [],
   "source": [
    "n_nodes, supplies, demands, costs, capacities = generate_dataset(\n",
    "                nodes=10, levels=3, total_supplies=[500,400,300], \n",
    "                total_demands=[400,600,400], transp_costs=(10,100), \n",
    "                random_state=42)"
   ]
  },
  {
   "cell_type": "code",
   "execution_count": 4,
   "metadata": {},
   "outputs": [],
   "source": [
    "from multiproduct import generate_ampl\n",
    "generate_ampl(n_nodes, supplies, demands, costs, capacities,\n",
    "              output_file='modelos/test10.mod')"
   ]
  },
  {
   "cell_type": "code",
   "execution_count": 49,
   "metadata": {},
   "outputs": [
    {
     "data": {
      "text/plain": [
       "[2, 3, 5]"
      ]
     },
     "execution_count": 49,
     "metadata": {},
     "output_type": "execute_result"
    }
   ],
   "source": [
    "n_nodes"
   ]
  },
  {
   "cell_type": "code",
   "execution_count": 5,
   "metadata": {},
   "outputs": [
    {
     "data": {
      "text/plain": [
       "[[200, 300, 0], [130, 270, 200], [170, 130, 100]]"
      ]
     },
     "execution_count": 5,
     "metadata": {},
     "output_type": "execute_result"
    }
   ],
   "source": [
    "supplies"
   ]
  },
  {
   "cell_type": "code",
   "execution_count": 6,
   "metadata": {},
   "outputs": [
    {
     "data": {
      "text/plain": [
       "[[500, 700], [437, 500, 619], [150, 270, 320, 230, 430]]"
      ]
     },
     "execution_count": 6,
     "metadata": {},
     "output_type": "execute_result"
    }
   ],
   "source": [
    "capacities"
   ]
  },
  {
   "cell_type": "code",
   "execution_count": 7,
   "metadata": {},
   "outputs": [
    {
     "data": {
      "text/plain": [
       "[[200, 300, 0], [130, 270, 200], [170, 130, 100]]"
      ]
     },
     "execution_count": 7,
     "metadata": {},
     "output_type": "execute_result"
    }
   ],
   "source": [
    "supplies"
   ]
  },
  {
   "cell_type": "code",
   "execution_count": 8,
   "metadata": {},
   "outputs": [
    {
     "data": {
      "text/plain": [
       "[[10, 50, 90, 40, 210, 100],\n",
       " [110, 180, 100, 120, 90, 0],\n",
       " [30, 40, 130, 70, 130, 0]]"
      ]
     },
     "execution_count": 8,
     "metadata": {},
     "output_type": "execute_result"
    }
   ],
   "source": [
    "demands"
   ]
  },
  {
   "cell_type": "code",
   "execution_count": 206,
   "metadata": {},
   "outputs": [
    {
     "data": {
      "text/plain": [
       "2"
      ]
     },
     "execution_count": 206,
     "metadata": {},
     "output_type": "execute_result"
    }
   ],
   "source": [
    "len(np.array(supplies).shape)"
   ]
  },
  {
   "cell_type": "code",
   "execution_count": 4,
   "metadata": {},
   "outputs": [],
   "source": [
    "def transport(left, right, left_cap, right_cap, X, \n",
    "              item, j, k, demand_limit=None):\n",
    "    '''\n",
    "    left: [items, n_nodesL]\n",
    "    right: [items, n_nodesR]\n",
    "    left_cap: [items, n_nodesL] or [n_nodesL]\n",
    "    right_cap: [items, n_nodesR]\n",
    "    X: [items, n_nodesL, n_nodesR]\n",
    "    demand_limit: [n_nodesR]\n",
    "    '''\n",
    "#     print('caps:', left_cap, right_cap)\n",
    "    item_cap = left_cap[item][j] if len(np.array(left_cap).shape)==2 \\\n",
    "                                 else left_cap[j]\n",
    "    assert item_cap >= left[item][j] \n",
    "    assert right_cap[item][k] >= right[item][k] \n",
    "    available = min(item_cap - left[item][j], \n",
    "                    right_cap[item][k] - right[item][k])\n",
    "    if demand_limit is not None: \n",
    "        available = min(available, \n",
    "                        int(demand_limit[item][k] * right_cap[item][k]))\n",
    "    left[item][j] += available\n",
    "    right[item][k] += available\n",
    "    X[item][j][k] += available\n",
    "    return available"
   ]
  },
  {
   "cell_type": "code",
   "execution_count": 12,
   "metadata": {},
   "outputs": [
    {
     "data": {
      "text/plain": [
       "[(0, 0), (0, 1), (0, 2), (1, 0), (1, 1), (1, 2), (2, 0), (2, 1), (2, 2)]"
      ]
     },
     "execution_count": 12,
     "metadata": {},
     "output_type": "execute_result"
    }
   ],
   "source": [
    "from itertools import product\n",
    "list(product(range(3),range(3)))"
   ]
  },
  {
   "cell_type": "code",
   "execution_count": 13,
   "metadata": {},
   "outputs": [],
   "source": [
    "ch = np.random.randint(0, 100, (3, 5))"
   ]
  },
  {
   "cell_type": "code",
   "execution_count": 14,
   "metadata": {},
   "outputs": [
    {
     "data": {
      "text/plain": [
       "array([[76,  2, 69, 71, 26],\n",
       "       [ 8, 61, 36, 96, 50],\n",
       "       [43, 23, 78, 58, 31]])"
      ]
     },
     "execution_count": 14,
     "metadata": {},
     "output_type": "execute_result"
    }
   ],
   "source": [
    "ch"
   ]
  },
  {
   "cell_type": "code",
   "execution_count": 24,
   "metadata": {},
   "outputs": [
    {
     "name": "stdout",
     "output_type": "stream",
     "text": [
      "1 3 96\n",
      "2 2 78\n",
      "0 0 76\n",
      "0 3 71\n",
      "0 2 69\n",
      "1 1 61\n",
      "2 3 58\n",
      "1 4 50\n",
      "2 0 43\n",
      "1 2 36\n",
      "2 4 31\n",
      "0 4 26\n",
      "2 1 23\n",
      "1 0 8\n",
      "0 1 2\n"
     ]
    }
   ],
   "source": [
    "for i,k in sorted(product(range(3), range(5)), key=lambda x: ch[x],\n",
    "                reverse=True):\n",
    "    print(i,k,ch[i][k])"
   ]
  },
  {
   "cell_type": "code",
   "execution_count": 5,
   "metadata": {},
   "outputs": [],
   "source": [
    "def transportation_stage(I, J, K, n_nodes, left_cap, right_cap, X,\n",
    "                         chrom, costs):\n",
    "    '''\n",
    "    stage: int [0..n-1)\n",
    "    n_nodes: [levels]\n",
    "    left_cap: [items, n_nodesL] or [n_nodesL]\n",
    "    right_cap: [items, n_nodesR] (no dummies)\n",
    "    costs: [n_nodesL, n_nodesR]\n",
    "    '''\n",
    "    left = np.zeros((I, J), dtype=int)\n",
    "    right = np.zeros((I, K), dtype=int)\n",
    "    chrom = np.reshape(chrom, (I, K))    \n",
    "    for i,k in sorted(product(range(I), range(K)), \n",
    "                      key=lambda x: chrom[x],\n",
    "                      reverse=True):\n",
    "        for j in sorted(range(J), \n",
    "                      key=lambda x: costs[x,k]):\n",
    "            items = transport(left, right, left_cap, right_cap, X, \n",
    "                              i, j, k)\n",
    "#     print(left)\n",
    "    return left"
   ]
  },
  {
   "cell_type": "code",
   "execution_count": 45,
   "metadata": {},
   "outputs": [
    {
     "data": {
      "text/plain": [
       "[[10, 50, 90, 40, 210, 100],\n",
       " [110, 180, 100, 120, 90, 0],\n",
       " [30, 40, 130, 70, 130, 0]]"
      ]
     },
     "execution_count": 45,
     "metadata": {},
     "output_type": "execute_result"
    }
   ],
   "source": [
    "demands"
   ]
  },
  {
   "cell_type": "code",
   "execution_count": 10,
   "metadata": {},
   "outputs": [],
   "source": [
    "ch = np.random.permutation(n_nodes[-1] * n_items)"
   ]
  },
  {
   "cell_type": "code",
   "execution_count": 53,
   "metadata": {},
   "outputs": [
    {
     "data": {
      "text/plain": [
       "array([[ 5, 10,  4, 13,  9],\n",
       "       [ 1, 11,  7,  0,  8],\n",
       "       [12,  6,  3,  2, 14]])"
      ]
     },
     "execution_count": 53,
     "metadata": {},
     "output_type": "execute_result"
    }
   ],
   "source": [
    "ch.reshape((3,5))"
   ]
  },
  {
   "cell_type": "code",
   "execution_count": 111,
   "metadata": {},
   "outputs": [
    {
     "data": {
      "text/plain": [
       "array([[[  0.,   0.,   0.,  40.,   0.,   0.],\n",
       "        [  0.,   0.,   0.,   0., 210.,   0.],\n",
       "        [ 10.,  50.,  90.,   0.,   0.,   0.]],\n",
       "\n",
       "       [[  0.,   0.,   0., 120.,   0.,   0.],\n",
       "        [  0.,   0.,   0.,   0.,  90.,   0.],\n",
       "        [110., 180., 100.,   0.,   0.,   0.]],\n",
       "\n",
       "       [[  0.,   0.,   0.,  70.,   0.,   0.],\n",
       "        [  0.,   0.,   0.,   0., 130.,   0.],\n",
       "        [ 30.,  40., 130.,   0.,   0.,   0.]]])"
      ]
     },
     "execution_count": 111,
     "metadata": {},
     "output_type": "execute_result"
    }
   ],
   "source": [
    "X[-1]"
   ]
  },
  {
   "cell_type": "code",
   "execution_count": 12,
   "metadata": {},
   "outputs": [],
   "source": [
    "n_items = 3\n",
    "X = [np.zeros((n_items,\n",
    "               n_nodes[i] + int(i==0), \n",
    "               n_nodes[i+1] + int(i+1==len(n_nodes)-1))) \\\n",
    "     for i in range(len(n_nodes)-1)]\n",
    "\n",
    "# stage = 1\n",
    "# transportation_stage(stage, n_items, n_nodes, capacities[-2], \n",
    "#                      [x[:-1] for x in demands], X[stage],\n",
    "#                      ch, costs[stage])"
   ]
  },
  {
   "cell_type": "code",
   "execution_count": 121,
   "metadata": {},
   "outputs": [
    {
     "data": {
      "text/plain": [
       "array([ 2,  5, 10])"
      ]
     },
     "execution_count": 121,
     "metadata": {},
     "output_type": "execute_result"
    }
   ],
   "source": [
    "np.cumsum(n_nodes)"
   ]
  },
  {
   "cell_type": "code",
   "execution_count": 137,
   "metadata": {},
   "outputs": [],
   "source": [
    "chrom_idxs = [0] + list(np.cumsum([n_items * x for x in n_nodes][1:]))\n",
    "chrom_stages = [(chrom_idxs[i],chrom_idxs[i+1]) for i in range(len(n_nodes)-1)]"
   ]
  },
  {
   "cell_type": "code",
   "execution_count": 138,
   "metadata": {},
   "outputs": [
    {
     "data": {
      "text/plain": [
       "[2, 3, 5]"
      ]
     },
     "execution_count": 138,
     "metadata": {},
     "output_type": "execute_result"
    }
   ],
   "source": [
    "n_nodes"
   ]
  },
  {
   "cell_type": "code",
   "execution_count": 139,
   "metadata": {},
   "outputs": [
    {
     "data": {
      "text/plain": [
       "[(0, 9), (9, 24)]"
      ]
     },
     "execution_count": 139,
     "metadata": {},
     "output_type": "execute_result"
    }
   ],
   "source": [
    "chrom_stages"
   ]
  },
  {
   "cell_type": "code",
   "execution_count": 6,
   "metadata": {},
   "outputs": [],
   "source": [
    "def transportation_tree(chromosome, n_nodes, supplies, demands, costs, capacities):\n",
    "    n_items = len(demands)\n",
    "    X = [np.zeros((n_items,\n",
    "               n_nodes[i] + int(i==0), \n",
    "               n_nodes[i+1] + int(i+1==len(n_nodes)-1))) \\\n",
    "         for i in range(len(n_nodes)-1)]\n",
    "    chrom_idxs = [0] + list(np.cumsum([n_items * x for x in n_nodes][1:]))\n",
    "    chrom_stages = [chromosome[chrom_idxs[i]:chrom_idxs[i+1]] \\\n",
    "                    for i in range(len(n_nodes)-1)]\n",
    "    # Dummy demand\n",
    "    right_cap = [x[:-1] for x in demands]\n",
    "    right_cap = dummy_transportation(n_items, right_cap, X)\n",
    "    for i in range(len(n_nodes)-2):\n",
    "        stage = len(n_nodes) - i - 2\n",
    "        right_cap = transportation_stage(n_items, n_nodes[stage],\n",
    "                            n_nodes[stage+1], n_nodes, \n",
    "                            capacities[stage], right_cap, X[stage],\n",
    "                            chrom_stages[stage], costs[stage])\n",
    "    # Supply\n",
    "    right_cap = transportation_stage(n_items, n_nodes[0],\n",
    "                            n_nodes[1], n_nodes,\n",
    "                            supplies, right_cap, X[0],\n",
    "                            chrom_stages[0], costs[0])\n",
    "    # Dummy supply\n",
    "    return X"
   ]
  },
  {
   "cell_type": "code",
   "execution_count": 202,
   "metadata": {},
   "outputs": [
    {
     "data": {
      "text/plain": [
       "[437, 500, 619]"
      ]
     },
     "execution_count": 202,
     "metadata": {},
     "output_type": "execute_result"
    }
   ],
   "source": [
    "capacities[1]"
   ]
  },
  {
   "cell_type": "code",
   "execution_count": 203,
   "metadata": {},
   "outputs": [
    {
     "data": {
      "text/plain": [
       "[500, 700]"
      ]
     },
     "execution_count": 203,
     "metadata": {},
     "output_type": "execute_result"
    }
   ],
   "source": [
    "capacities[0]"
   ]
  },
  {
   "cell_type": "code",
   "execution_count": 201,
   "metadata": {},
   "outputs": [
    {
     "data": {
      "text/plain": [
       "[[200, 300, 0], [130, 270, 200], [170, 130, 100]]"
      ]
     },
     "execution_count": 201,
     "metadata": {},
     "output_type": "execute_result"
    }
   ],
   "source": [
    "supplies"
   ]
  },
  {
   "cell_type": "code",
   "execution_count": 17,
   "metadata": {},
   "outputs": [],
   "source": [
    "np.random.seed(42)\n",
    "chromosome = np.random.permutation(sum([n_items * sum(n_nodes[1:])]))"
   ]
  },
  {
   "cell_type": "code",
   "execution_count": 18,
   "metadata": {},
   "outputs": [
    {
     "data": {
      "text/plain": [
       "array([ 8, 16,  0, 18, 11,  9, 13,  1, 21,  5,  2, 12, 15,  3,  4, 22, 17,\n",
       "       20, 23,  7, 10, 14, 19,  6])"
      ]
     },
     "execution_count": 18,
     "metadata": {},
     "output_type": "execute_result"
    }
   ],
   "source": [
    "chromosome"
   ]
  },
  {
   "cell_type": "code",
   "execution_count": 167,
   "metadata": {},
   "outputs": [
    {
     "data": {
      "text/plain": [
       "[2, 3, 5]"
      ]
     },
     "execution_count": 167,
     "metadata": {},
     "output_type": "execute_result"
    }
   ],
   "source": [
    "n_nodes"
   ]
  },
  {
   "cell_type": "code",
   "execution_count": 20,
   "metadata": {},
   "outputs": [],
   "source": [
    "X = transportation_tree(chromosome, n_nodes, supplies, demands, \n",
    "                        costs, capacities)"
   ]
  },
  {
   "cell_type": "code",
   "execution_count": 214,
   "metadata": {},
   "outputs": [
    {
     "data": {
      "text/plain": [
       "[array([[[ 40.,   0., 150.],\n",
       "         [  0., 210.,   0.],\n",
       "         [  0.,   0.,   0.]],\n",
       " \n",
       "        [[  0.,   0., 130.],\n",
       "         [  0.,  10., 260.],\n",
       "         [  0.,   0.,   0.]],\n",
       " \n",
       "        [[ 70.,   0., 100.],\n",
       "         [  0., 130.,   0.],\n",
       "         [  0.,   0.,   0.]]]), array([[[  0.,   0.,   0.,  40.,   0.,   0.],\n",
       "         [  0.,   0.,   0.,   0., 210.,   0.],\n",
       "         [ 10.,  50.,  90.,   0.,   0.,   0.]],\n",
       " \n",
       "        [[  0.,   0.,   0., 120.,   0.,   0.],\n",
       "         [  0.,   0.,   0.,   0.,  90.,   0.],\n",
       "         [110., 180., 100.,   0.,   0.,   0.]],\n",
       " \n",
       "        [[  0.,   0.,   0.,  70.,   0.,   0.],\n",
       "         [  0.,   0.,   0.,   0., 130.,   0.],\n",
       "         [ 30.,  40., 130.,   0.,   0.,   0.]]])]"
      ]
     },
     "execution_count": 214,
     "metadata": {},
     "output_type": "execute_result"
    }
   ],
   "source": [
    "X"
   ]
  },
  {
   "cell_type": "code",
   "execution_count": 228,
   "metadata": {},
   "outputs": [
    {
     "data": {
      "text/plain": [
       "[[10, 50, 90, 40, 210, 100],\n",
       " [110, 180, 100, 120, 90, 0],\n",
       " [30, 40, 130, 70, 130, 0]]"
      ]
     },
     "execution_count": 228,
     "metadata": {},
     "output_type": "execute_result"
    }
   ],
   "source": [
    "demands"
   ]
  },
  {
   "cell_type": "code",
   "execution_count": 230,
   "metadata": {},
   "outputs": [
    {
     "data": {
      "text/plain": [
       "[array([[[ 40.,   0., 150.],\n",
       "         [  0., 210.,   0.],\n",
       "         [  0.,   0.,   0.]],\n",
       " \n",
       "        [[  0.,   0., 130.],\n",
       "         [  0.,  10., 260.],\n",
       "         [  0.,   0.,   0.]],\n",
       " \n",
       "        [[ 70.,   0., 100.],\n",
       "         [  0., 130.,   0.],\n",
       "         [  0.,   0.,   0.]]]), array([[[  0.,   0.,   0.,  40.,   0.,   0.],\n",
       "         [  0.,   0.,   0.,   0., 210.,   0.],\n",
       "         [ 10.,  50.,  90.,   0.,   0.,   0.]],\n",
       " \n",
       "        [[  0.,   0.,   0., 120.,   0.,   0.],\n",
       "         [  0.,   0.,   0.,   0.,  90.,   0.],\n",
       "         [110., 180., 100.,   0.,   0.,   0.]],\n",
       " \n",
       "        [[  0.,   0.,   0.,  70.,   0.,   0.],\n",
       "         [  0.,   0.,   0.,   0., 130.,   0.],\n",
       "         [ 30.,  40., 130.,   0.,   0.,   0.]]])]"
      ]
     },
     "execution_count": 230,
     "metadata": {},
     "output_type": "execute_result"
    }
   ],
   "source": [
    "X"
   ]
  },
  {
   "cell_type": "code",
   "execution_count": 192,
   "metadata": {},
   "outputs": [
    {
     "data": {
      "text/plain": [
       "array([[[ 40.,   0., 150.],\n",
       "        [  0., 210.,   0.],\n",
       "        [  0.,   0.,   0.]],\n",
       "\n",
       "       [[  0.,   0., 130.],\n",
       "        [  0.,  10., 260.],\n",
       "        [  0.,   0.,   0.]],\n",
       "\n",
       "       [[ 70.,   0., 100.],\n",
       "        [  0., 130.,   0.],\n",
       "        [  0.,   0.,   0.]]])"
      ]
     },
     "execution_count": 192,
     "metadata": {},
     "output_type": "execute_result"
    }
   ],
   "source": [
    "X[0]"
   ]
  },
  {
   "cell_type": "code",
   "execution_count": 193,
   "metadata": {},
   "outputs": [
    {
     "data": {
      "text/plain": [
       "array([[[  0.,   0.,   0.,  40.,   0.,   0.],\n",
       "        [  0.,   0.,   0.,   0., 210.,   0.],\n",
       "        [ 10.,  50.,  90.,   0.,   0.,   0.]],\n",
       "\n",
       "       [[  0.,   0.,   0., 120.,   0.,   0.],\n",
       "        [  0.,   0.,   0.,   0.,  90.,   0.],\n",
       "        [110., 180., 100.,   0.,   0.,   0.]],\n",
       "\n",
       "       [[  0.,   0.,   0.,  70.,   0.,   0.],\n",
       "        [  0.,   0.,   0.,   0., 130.,   0.],\n",
       "        [ 30.,  40., 130.,   0.,   0.,   0.]]])"
      ]
     },
     "execution_count": 193,
     "metadata": {},
     "output_type": "execute_result"
    }
   ],
   "source": [
    "X[1]"
   ]
  },
  {
   "cell_type": "code",
   "execution_count": 180,
   "metadata": {},
   "outputs": [
    {
     "data": {
      "text/plain": [
       "[2, 3, 5]"
      ]
     },
     "execution_count": 180,
     "metadata": {},
     "output_type": "execute_result"
    }
   ],
   "source": [
    "n_nodes"
   ]
  },
  {
   "cell_type": "code",
   "execution_count": 181,
   "metadata": {},
   "outputs": [
    {
     "data": {
      "text/plain": [
       "array([[[ 40.,   0., 150.],\n",
       "        [  0., 210.,   0.],\n",
       "        [  0.,   0.,   0.]],\n",
       "\n",
       "       [[110.,   0., 390.],\n",
       "        [ 10.,  90.,   0.],\n",
       "        [  0.,   0.,   0.]],\n",
       "\n",
       "       [[ 70.,   0., 200.],\n",
       "        [  0., 130.,   0.],\n",
       "        [  0.,   0.,   0.]]])"
      ]
     },
     "execution_count": 181,
     "metadata": {},
     "output_type": "execute_result"
    }
   ],
   "source": [
    "X[0]"
   ]
  },
  {
   "cell_type": "code",
   "execution_count": 182,
   "metadata": {},
   "outputs": [
    {
     "data": {
      "text/plain": [
       "array([[[  0.,   0.,   0.,  40.,   0.,   0.],\n",
       "        [  0.,   0.,   0.,   0., 210.,   0.],\n",
       "        [ 10.,  50.,  90.,   0.,   0.,   0.]],\n",
       "\n",
       "       [[  0.,   0.,   0., 120.,   0.,   0.],\n",
       "        [  0.,   0.,   0.,   0.,  90.,   0.],\n",
       "        [110., 180., 100.,   0.,   0.,   0.]],\n",
       "\n",
       "       [[  0.,   0.,   0.,  70.,   0.,   0.],\n",
       "        [  0.,   0.,   0.,   0., 130.,   0.],\n",
       "        [ 30.,  40., 130.,   0.,   0.,   0.]]])"
      ]
     },
     "execution_count": 182,
     "metadata": {},
     "output_type": "execute_result"
    }
   ],
   "source": [
    "X[1]"
   ]
  },
  {
   "cell_type": "code",
   "execution_count": 186,
   "metadata": {},
   "outputs": [
    {
     "data": {
      "text/plain": [
       "[[200, 300, 0], [130, 270, 200], [170, 130, 100]]"
      ]
     },
     "execution_count": 186,
     "metadata": {},
     "output_type": "execute_result"
    }
   ],
   "source": [
    "supplies"
   ]
  },
  {
   "cell_type": "code",
   "execution_count": 185,
   "metadata": {},
   "outputs": [
    {
     "data": {
      "text/plain": [
       "[[10, 50, 90, 40, 210, 100],\n",
       " [110, 180, 100, 120, 90, 0],\n",
       " [30, 40, 130, 70, 130, 0]]"
      ]
     },
     "execution_count": 185,
     "metadata": {},
     "output_type": "execute_result"
    }
   ],
   "source": [
    "demands"
   ]
  },
  {
   "cell_type": "code",
   "execution_count": 66,
   "metadata": {},
   "outputs": [
    {
     "data": {
      "text/plain": [
       "array([[[   0.,    0.,    0.,   40.,    0.,    0.],\n",
       "        [   0.,    0.,    0.,    0.,   80.,    0.],\n",
       "        [ -20., -130.,  -10.,    0.,    0.,    0.]],\n",
       "\n",
       "       [[   0.,    0.,    0.,   50.,    0.,    0.],\n",
       "        [   0.,    0.,    0.,    0., -120.,    0.],\n",
       "        [ 100.,  180.,  100.,    0.,    0.,    0.]],\n",
       "\n",
       "       [[   0.,    0.,    0.,   30.,    0.,    0.],\n",
       "        [   0.,    0.,    0.,    0.,  130.,    0.],\n",
       "        [  30.,  -10.,   40.,    0.,    0.,    0.]]])"
      ]
     },
     "execution_count": 66,
     "metadata": {},
     "output_type": "execute_result"
    }
   ],
   "source": [
    "X[1]"
   ]
  },
  {
   "cell_type": "code",
   "execution_count": 101,
   "metadata": {},
   "outputs": [
    {
     "data": {
      "text/plain": [
       "100"
      ]
     },
     "execution_count": 101,
     "metadata": {},
     "output_type": "execute_result"
    }
   ],
   "source": [
    "left = [[0]*3]*3\n",
    "right = [[0]*5]*3\n",
    "X = [np.zeros((n_nodes[i] + int(i==0), \n",
    "               n_nodes[i+1] + int(i+1==len(n_nodes)-1))) \\\n",
    "     for i in range(len(n_nodes)-1)]\n",
    "transport(left, right, capacities[-1], demands, X, 1, 1, 2)"
   ]
  },
  {
   "cell_type": "markdown",
   "metadata": {},
   "source": [
    "## Checkpoint"
   ]
  },
  {
   "cell_type": "code",
   "execution_count": 1,
   "metadata": {},
   "outputs": [],
   "source": [
    "%load_ext autoreload\n",
    "%autoreload 2\n",
    "%matplotlib inline\n",
    "%config InlineBackend.figure_format = 'retina'\n",
    "import numpy as np\n",
    "import pandas as pd\n",
    "import matplotlib.pyplot as plt\n",
    "import seaborn as sns\n",
    "sns.set()"
   ]
  },
  {
   "cell_type": "code",
   "execution_count": 2,
   "metadata": {},
   "outputs": [],
   "source": [
    "from multiproduct import generate_dataset\n",
    "n_nodes, supplies, demands, costs, capacities = generate_dataset(\n",
    "                nodes=10, levels=3, total_supplies=[500,400,300], \n",
    "                total_demands=[400,600,400], transp_costs=(10,100), \n",
    "                random_state=42)"
   ]
  },
  {
   "cell_type": "code",
   "execution_count": 4,
   "metadata": {},
   "outputs": [],
   "source": [
    "np.random.seed(42)\n",
    "n_items = len(supplies)\n",
    "chromosome = np.random.permutation(sum([n_items * sum(n_nodes[1:])]))"
   ]
  },
  {
   "cell_type": "code",
   "execution_count": 34,
   "metadata": {},
   "outputs": [],
   "source": [
    "from itertools import product\n",
    "\n",
    "def dummy_transportation(I, K, left_cap, right_cap, chrom):\n",
    "    chrom = np.reshape(chrom, (I,K))\n",
    "    for i, k in sorted(product(range(I), range(K)),\n",
    "                       key=lambda x: chrom[x],\n",
    "                       reverse=True):\n",
    "        available = min(left_cap[i], right_cap[i][k])\n",
    "        left_cap[i] -= available\n",
    "        right_cap[i][k] -= available\n",
    "    return right_cap"
   ]
  },
  {
   "cell_type": "code",
   "execution_count": 35,
   "metadata": {},
   "outputs": [],
   "source": [
    "from multiproduct import transportation_stage\n",
    "\n",
    "def transportation_tree(chromosome, n_nodes, supplies, demands, costs, capacities):\n",
    "    n_items = len(demands)\n",
    "    X = [np.zeros((n_items,\n",
    "               n_nodes[i], \n",
    "               n_nodes[i+1])) \\\n",
    "         for i in range(len(n_nodes)-1)]\n",
    "    # Divide chromosome in stages\n",
    "    chrom_idxs = [0] + list(np.cumsum([n_items * x for x in n_nodes][1:]))\n",
    "    chrom_stages = [chromosome[chrom_idxs[i]:chrom_idxs[i+1]] \\\n",
    "                    for i in range(len(n_nodes)-1)]\n",
    "    # Dummy demand\n",
    "    right_cap = [x[:-1] for x in demands]\n",
    "    right_cap = dummy_transportation(n_items, n_nodes[-1],\n",
    "            [x[-1] for x in supplies], right_cap, chrom_stages[-1])\n",
    "    for i in range(len(n_nodes)-1):\n",
    "        stage = len(n_nodes) - i - 2\n",
    "        left_cap = capacities[stage] if stage > 0 else supplies\n",
    "        right_cap = transportation_stage(n_items, n_nodes[stage],\n",
    "                            n_nodes[stage+1], n_nodes, \n",
    "                            left_cap, right_cap, X[stage],\n",
    "                            chrom_stages[stage], costs[stage])\n",
    "    return X"
   ]
  },
  {
   "cell_type": "code",
   "execution_count": 36,
   "metadata": {},
   "outputs": [],
   "source": [
    "X = transportation_tree(chromosome, n_nodes, supplies, demands, \n",
    "                        costs, capacities)"
   ]
  },
  {
   "cell_type": "code",
   "execution_count": 41,
   "metadata": {},
   "outputs": [
    {
     "data": {
      "text/plain": [
       "array([[[ 40.,   0., 150.],\n",
       "        [  0., 210.,   0.]],\n",
       "\n",
       "       [[120.,   0.,  10.],\n",
       "        [  0.,   0., 270.]],\n",
       "\n",
       "       [[  0.,   0., 170.],\n",
       "        [  0., 130.,   0.]]])"
      ]
     },
     "execution_count": 41,
     "metadata": {},
     "output_type": "execute_result"
    }
   ],
   "source": [
    "X[0]"
   ]
  },
  {
   "cell_type": "code",
   "execution_count": 42,
   "metadata": {},
   "outputs": [
    {
     "data": {
      "text/plain": [
       "array([[[  0.,   0.,   0.,  40.,   0.],\n",
       "        [  0.,   0.,   0.,   0., 210.],\n",
       "        [ 10.,  50.,  90.,   0.,   0.]],\n",
       "\n",
       "       [[  0.,   0.,   0., 120.,   0.],\n",
       "        [  0.,   0.,   0.,   0.,   0.],\n",
       "        [110.,  70., 100.,   0.,   0.]],\n",
       "\n",
       "       [[  0.,   0.,   0.,   0.,   0.],\n",
       "        [  0.,   0.,   0.,   0., 130.],\n",
       "        [ 30.,  40., 100.,   0.,   0.]]])"
      ]
     },
     "execution_count": 42,
     "metadata": {},
     "output_type": "execute_result"
    }
   ],
   "source": [
    "X[1]"
   ]
  },
  {
   "cell_type": "code",
   "execution_count": 43,
   "metadata": {},
   "outputs": [
    {
     "data": {
      "text/plain": [
       "[2, 3, 5]"
      ]
     },
     "execution_count": 43,
     "metadata": {},
     "output_type": "execute_result"
    }
   ],
   "source": [
    "n_nodes"
   ]
  },
  {
   "cell_type": "code",
   "execution_count": 47,
   "metadata": {},
   "outputs": [
    {
     "data": {
      "text/plain": [
       "([[200, 300], [130, 270], [170, 130]],\n",
       " [[10, 50, 90, 40, 210], [110, 180, 100, 120, 90], [30, 40, 130, 70, 130]])"
      ]
     },
     "execution_count": 47,
     "metadata": {},
     "output_type": "execute_result"
    }
   ],
   "source": [
    "[s[:-1] for s in supplies], [d[:-1] for d in demands]"
   ]
  },
  {
   "cell_type": "code",
   "execution_count": 49,
   "metadata": {},
   "outputs": [
    {
     "data": {
      "text/plain": [
       "(500, 500)"
      ]
     },
     "execution_count": 49,
     "metadata": {},
     "output_type": "execute_result"
    }
   ],
   "source": [
    "sum(supplies[0]), sum(demands[0])"
   ]
  },
  {
   "cell_type": "code",
   "execution_count": null,
   "metadata": {},
   "outputs": [],
   "source": []
  }
 ],
 "metadata": {
  "kernelspec": {
   "display_name": "Python 3",
   "language": "python",
   "name": "python3"
  },
  "language_info": {
   "codemirror_mode": {
    "name": "ipython",
    "version": 3
   },
   "file_extension": ".py",
   "mimetype": "text/x-python",
   "name": "python",
   "nbconvert_exporter": "python",
   "pygments_lexer": "ipython3",
   "version": "3.6.3"
  }
 },
 "nbformat": 4,
 "nbformat_minor": 2
}
